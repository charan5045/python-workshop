{
  "nbformat": 4,
  "nbformat_minor": 0,
  "metadata": {
    "colab": {
      "name": "assignment_june29.ipynb",
      "provenance": [],
      "authorship_tag": "ABX9TyMvhZumLtfYoQYYZVlpVR/t",
      "include_colab_link": true
    },
    "kernelspec": {
      "name": "python3",
      "display_name": "Python 3"
    }
  },
  "cells": [
    {
      "cell_type": "markdown",
      "metadata": {
        "id": "view-in-github",
        "colab_type": "text"
      },
      "source": [
        "<a href=\"https://colab.research.google.com/github/charan5045/python-workshop/blob/master/assignment_june29.ipynb\" target=\"_parent\"><img src=\"https://colab.research.google.com/assets/colab-badge.svg\" alt=\"Open In Colab\"/></a>"
      ]
    },
    {
      "cell_type": "markdown",
      "metadata": {
        "id": "qeKjQ82d1J4C",
        "colab_type": "text"
      },
      "source": [
        "1.Write a Python program to get the largest & smallest number from a list."
      ]
    },
    {
      "cell_type": "code",
      "metadata": {
        "id": "vHkPztePziZD",
        "colab_type": "code",
        "colab": {
          "base_uri": "https://localhost:8080/",
          "height": 34
        },
        "outputId": "f4e72820-a480-4199-fa66-5ab93d6dbd2d"
      },
      "source": [
        "def smallest_num_in_list( list ):\n",
        "    min = list[ 0 ]\n",
        "    for a in list:\n",
        "        if a < min:\n",
        "            min = a\n",
        "    return min\n",
        "print(smallest_num_in_list([1, 2, -8, 0]))"
      ],
      "execution_count": 1,
      "outputs": [
        {
          "output_type": "stream",
          "text": [
            "-8\n"
          ],
          "name": "stdout"
        }
      ]
    },
    {
      "cell_type": "code",
      "metadata": {
        "id": "yHUu6LvR2DLd",
        "colab_type": "code",
        "colab": {
          "base_uri": "https://localhost:8080/",
          "height": 34
        },
        "outputId": "80fc6bc6-224f-4e2f-eddc-ecf3bc05b325"
      },
      "source": [
        "def max_num_in_list( list ):\n",
        "    max = list[ 0 ]\n",
        "    for a in list:\n",
        "        if a > max:\n",
        "            max = a\n",
        "    return max\n",
        "print(max_num_in_list([1, 2, -8, 0]))\n",
        "\n"
      ],
      "execution_count": 2,
      "outputs": [
        {
          "output_type": "stream",
          "text": [
            "2\n"
          ],
          "name": "stdout"
        }
      ]
    },
    {
      "cell_type": "markdown",
      "metadata": {
        "id": "htSN-8cj1_ao",
        "colab_type": "text"
      },
      "source": [
        "2.Write a Python program to remove duplicates from a list."
      ]
    },
    {
      "cell_type": "code",
      "metadata": {
        "id": "Zi-Nio4r2MeJ",
        "colab_type": "code",
        "colab": {
          "base_uri": "https://localhost:8080/",
          "height": 34
        },
        "outputId": "b5b8f0b1-9452-4140-97d4-8387f654780b"
      },
      "source": [
        "duplicate=[1,3,5,3,7,10,7,3]\n",
        "print(list(set(duplicate)))"
      ],
      "execution_count": 3,
      "outputs": [
        {
          "output_type": "stream",
          "text": [
            "[1, 3, 5, 7, 10]\n"
          ],
          "name": "stdout"
        }
      ]
    },
    {
      "cell_type": "markdown",
      "metadata": {
        "id": "_KZV48np2bzI",
        "colab_type": "text"
      },
      "source": [
        "3.Write a Python program to check a list is empty or not."
      ]
    },
    {
      "cell_type": "code",
      "metadata": {
        "id": "lhY9tVuk2dzl",
        "colab_type": "code",
        "colab": {
          "base_uri": "https://localhost:8080/",
          "height": 34
        },
        "outputId": "3ee95e1a-961e-4cd4-e1f0-2b67f55c4348"
      },
      "source": [
        "l = []\n",
        "if not l:\n",
        "  print(\"List is empty\")\n",
        "else:\n",
        "  print(\"List is not empty\")"
      ],
      "execution_count": 4,
      "outputs": [
        {
          "output_type": "stream",
          "text": [
            "List is empty\n"
          ],
          "name": "stdout"
        }
      ]
    },
    {
      "cell_type": "markdown",
      "metadata": {
        "id": "FvrlGmcl2hOY",
        "colab_type": "text"
      },
      "source": [
        "4.Write a Python program to clone or copy a list."
      ]
    },
    {
      "cell_type": "code",
      "metadata": {
        "id": "5PHIGhR52pUM",
        "colab_type": "code",
        "colab": {
          "base_uri": "https://localhost:8080/",
          "height": 50
        },
        "outputId": "77b9cca7-0540-41dd-a277-b491f1f84627"
      },
      "source": [
        "a=[10,3,15,12]\n",
        "new_list=list(a)\n",
        "print(a)\n",
        "print(new_list)"
      ],
      "execution_count": 5,
      "outputs": [
        {
          "output_type": "stream",
          "text": [
            "[10, 3, 15, 12]\n",
            "[10, 3, 15, 12]\n"
          ],
          "name": "stdout"
        }
      ]
    },
    {
      "cell_type": "markdown",
      "metadata": {
        "id": "859VZndR2tWB",
        "colab_type": "text"
      },
      "source": [
        "5.Write a Python program to print a specified list after removing the 0th, 4th and 5th elements. Sample List : ['Red', 'Green', 'White', 'Black', 'Pink', 'Yellow']"
      ]
    },
    {
      "cell_type": "code",
      "metadata": {
        "id": "HnIZYy5S20Zr",
        "colab_type": "code",
        "colab": {
          "base_uri": "https://localhost:8080/",
          "height": 34
        },
        "outputId": "8572a366-9c99-4818-8bc7-64917d2caa90"
      },
      "source": [
        "color = ['Red', 'Green', 'White', 'Black', 'Pink', 'Yellow']\n",
        "color = [x for (i,x) in enumerate(color) if i not in (0,4,5)]\n",
        "print(color)"
      ],
      "execution_count": 6,
      "outputs": [
        {
          "output_type": "stream",
          "text": [
            "['Green', 'White', 'Black']\n"
          ],
          "name": "stdout"
        }
      ]
    },
    {
      "cell_type": "markdown",
      "metadata": {
        "id": "cM1uHs4d29u1",
        "colab_type": "text"
      },
      "source": [
        "6.Write a Python program to print the numbers of a specified list after removing even numbers from it."
      ]
    },
    {
      "cell_type": "code",
      "metadata": {
        "id": "alwUffnb3COx",
        "colab_type": "code",
        "colab": {
          "base_uri": "https://localhost:8080/",
          "height": 34
        },
        "outputId": "9cd7fd57-fd01-4bb3-820a-7eed8d727ef1"
      },
      "source": [
        "num = [7,8, 120, 25, 44, 20, 27]\n",
        "num = [x for x in num if x%2!=0]\n",
        "print(num)"
      ],
      "execution_count": 7,
      "outputs": [
        {
          "output_type": "stream",
          "text": [
            "[7, 25, 27]\n"
          ],
          "name": "stdout"
        }
      ]
    },
    {
      "cell_type": "markdown",
      "metadata": {
        "id": "EPpSDQSW3Kai",
        "colab_type": "text"
      },
      "source": [
        "7.Write a Python program to shuffle and print a specified list."
      ]
    },
    {
      "cell_type": "code",
      "metadata": {
        "id": "ehg3xlX33OsY",
        "colab_type": "code",
        "colab": {
          "base_uri": "https://localhost:8080/",
          "height": 34
        },
        "outputId": "5ad72fd2-44b4-4c4f-cf80-5b5298056aa3"
      },
      "source": [
        "from random import shuffle\n",
        "color = ['Red', 'Green', 'White', 'Black', 'Pink', 'Yellow']\n",
        "shuffle(color)\n",
        "print(color)"
      ],
      "execution_count": 8,
      "outputs": [
        {
          "output_type": "stream",
          "text": [
            "['Green', 'Pink', 'White', 'Yellow', 'Black', 'Red']\n"
          ],
          "name": "stdout"
        }
      ]
    },
    {
      "cell_type": "markdown",
      "metadata": {
        "id": "0BEEJEr43Snt",
        "colab_type": "text"
      },
      "source": [
        "8.Write a Python program to get the difference between the two lists."
      ]
    },
    {
      "cell_type": "code",
      "metadata": {
        "id": "mcTxIoWM3W--",
        "colab_type": "code",
        "colab": {
          "base_uri": "https://localhost:8080/",
          "height": 34
        },
        "outputId": "f045d1ec-c77e-444f-b1db-e4ecc54af933"
      },
      "source": [
        "list1 = [1, 3, 5, 7, 9]\n",
        "list2=[1, 2, 4, 6, 7, 8]\n",
        "diff_list1_list2 = list(set(list1) - set(list2))\n",
        "diff_list2_list1 = list(set(list2) - set(list1))\n",
        "total_diff = diff_list1_list2 + diff_list2_list1\n",
        "print(total_diff)"
      ],
      "execution_count": 9,
      "outputs": [
        {
          "output_type": "stream",
          "text": [
            "[9, 3, 5, 8, 2, 4, 6]\n"
          ],
          "name": "stdout"
        }
      ]
    }
  ]
}