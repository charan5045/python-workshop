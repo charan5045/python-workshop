{
  "nbformat": 4,
  "nbformat_minor": 0,
  "metadata": {
    "colab": {
      "name": "assignment_june25.ipynb",
      "provenance": [],
      "authorship_tag": "ABX9TyORjxD3TEdtOC8pcXm8HfSf",
      "include_colab_link": true
    },
    "kernelspec": {
      "name": "python3",
      "display_name": "Python 3"
    }
  },
  "cells": [
    {
      "cell_type": "markdown",
      "metadata": {
        "id": "view-in-github",
        "colab_type": "text"
      },
      "source": [
        "<a href=\"https://colab.research.google.com/github/charan5045/python-workshop/blob/master/assignment_june25.ipynb\" target=\"_parent\"><img src=\"https://colab.research.google.com/assets/colab-badge.svg\" alt=\"Open In Colab\"/></a>"
      ]
    },
    {
      "cell_type": "markdown",
      "metadata": {
        "id": "atmQggmZQIMj",
        "colab_type": "text"
      },
      "source": [
        "1.Python program to find square root of a number"
      ]
    },
    {
      "cell_type": "code",
      "metadata": {
        "id": "Gw0Ios8G2YOh",
        "colab_type": "code",
        "colab": {
          "base_uri": "https://localhost:8080/",
          "height": 52
        },
        "outputId": "fec00a5b-533e-4f8a-97fa-6f79d9c71dbc"
      },
      "source": [
        "import math\n",
        "a=int(input('enter a number '))\n",
        "squareroot=math.sqrt(a)\n",
        "print(squareroot)"
      ],
      "execution_count": 1,
      "outputs": [
        {
          "output_type": "stream",
          "text": [
            "enter a number 16\n",
            "4.0\n"
          ],
          "name": "stdout"
        }
      ]
    },
    {
      "cell_type": "markdown",
      "metadata": {
        "id": "eT81Pg-zQOOP",
        "colab_type": "text"
      },
      "source": [
        "2.Python program to check if a number is positive,negative or zero"
      ]
    },
    {
      "cell_type": "code",
      "metadata": {
        "id": "40qY5VyyQTsM",
        "colab_type": "code",
        "colab": {
          "base_uri": "https://localhost:8080/",
          "height": 52
        },
        "outputId": "520db608-679c-41e6-fbd6-fbe08486696f"
      },
      "source": [
        "a=int(input('Enter a number '))\n",
        "if a>0:\n",
        "  print(\"positive number\")\n",
        "elif a==0:\n",
        "  print(\"equal\")\n",
        "else:\n",
        "  print(\"negative number\")"
      ],
      "execution_count": 2,
      "outputs": [
        {
          "output_type": "stream",
          "text": [
            "Enter a number 33\n",
            "positive number\n"
          ],
          "name": "stdout"
        }
      ]
    },
    {
      "cell_type": "markdown",
      "metadata": {
        "id": "lO2DQcqPQX6w",
        "colab_type": "text"
      },
      "source": [
        "3.Python program to check leap year"
      ]
    },
    {
      "cell_type": "code",
      "metadata": {
        "id": "JnSuWrelQjOF",
        "colab_type": "code",
        "colab": {
          "base_uri": "https://localhost:8080/",
          "height": 52
        },
        "outputId": "12bd4882-8f68-4cb3-de69-90cb5cf0a37f"
      },
      "source": [
        "year = int(input(\"Enter Year: \"))\n",
        "if year % 4 == 0 and year % 100 != 0:\n",
        "    print(year, \"is a Leap Year\")\n",
        "elif year % 100 != 0:\n",
        "    print(year, \"is not a Leap Year\")\n",
        "elif year % 400 ==0:\n",
        "    print(year, \"is a Leap Year\")\n",
        "else:\n",
        "    print(year, \"is not a Leap Year\")"
      ],
      "execution_count": 3,
      "outputs": [
        {
          "output_type": "stream",
          "text": [
            "Enter Year: 2000\n",
            "2000 is a Leap Year\n"
          ],
          "name": "stdout"
        }
      ]
    },
    {
      "cell_type": "markdown",
      "metadata": {
        "id": "EiXCAkyiQnb6",
        "colab_type": "text"
      },
      "source": [
        "4.Python program to check armstrong number"
      ]
    },
    {
      "cell_type": "code",
      "metadata": {
        "id": "4fKaSwhYQuba",
        "colab_type": "code",
        "colab": {
          "base_uri": "https://localhost:8080/",
          "height": 52
        },
        "outputId": "d88304ba-15b4-4b6d-d412-2495e4e722f8"
      },
      "source": [
        "num = int(input(\"Enter a number: \"))\n",
        "sum = 0\n",
        "temp = num\n",
        "while temp > 0:\n",
        "   digit = temp % 10\n",
        "   sum += digit ** 3\n",
        "   temp //= 10\n",
        "if num == sum:\n",
        "   print(num,\"is an Armstrong number\")\n",
        "else:\n",
        "   print(num,\"is not an Armstrong number\")"
      ],
      "execution_count": 4,
      "outputs": [
        {
          "output_type": "stream",
          "text": [
            "Enter a number: 33\n",
            "33 is not an Armstrong number\n"
          ],
          "name": "stdout"
        }
      ]
    },
    {
      "cell_type": "markdown",
      "metadata": {
        "id": "Z8ZfWjaZQybE",
        "colab_type": "text"
      },
      "source": [
        "5.Python program to find armstrong number in an interval"
      ]
    },
    {
      "cell_type": "code",
      "metadata": {
        "id": "eC977Bu-Q5W6",
        "colab_type": "code",
        "colab": {
          "base_uri": "https://localhost:8080/",
          "height": 141
        },
        "outputId": "ae36756e-9ecd-4cfb-fb10-9ea3d5c7c1cf"
      },
      "source": [
        "for num in range(100,1000):\n",
        "  temp=num\n",
        "  sum=0\n",
        "  while temp>0:\n",
        "      digit=temp%10\n",
        "      sum=sum+digit**3\n",
        "      temp=temp//10\n",
        "      if sum==num:\n",
        "           print (num,\"is an armstrong number\")"
      ],
      "execution_count": 5,
      "outputs": [
        {
          "output_type": "stream",
          "text": [
            "125 is an armstrong number\n",
            "153 is an armstrong number\n",
            "216 is an armstrong number\n",
            "370 is an armstrong number\n",
            "371 is an armstrong number\n",
            "407 is an armstrong number\n",
            "729 is an armstrong number\n"
          ],
          "name": "stdout"
        }
      ]
    },
    {
      "cell_type": "markdown",
      "metadata": {
        "id": "sM2cb4LuQ_xF",
        "colab_type": "text"
      },
      "source": [
        "6.Python program to print fibonacci sequeance"
      ]
    },
    {
      "cell_type": "code",
      "metadata": {
        "id": "3thb3HrZRKDp",
        "colab_type": "code",
        "colab": {
          "base_uri": "https://localhost:8080/",
          "height": 141
        },
        "outputId": "c1f8dc37-9d1a-4e5e-acb2-15388844f87b"
      },
      "source": [
        "nterms = int(input(\"How many terms? \"))\n",
        "n1, n2 = 0, 1\n",
        "count = 0\n",
        "if nterms <= 0:\n",
        "   print(\"Please enter a positive integer\")\n",
        "elif nterms == 1:\n",
        "   print(\"Fibonacci sequence upto\",nterms,\":\")\n",
        "   print(n1)\n",
        "else:\n",
        "   print(\"Fibonacci sequence:\")\n",
        "   while count < nterms:\n",
        "       print(n1)\n",
        "       nth = n1 + n2\n",
        "       n1 = n2\n",
        "       n2 = nth\n",
        "       count += 1"
      ],
      "execution_count": 6,
      "outputs": [
        {
          "output_type": "stream",
          "text": [
            "How many terms? 5\n",
            "Fibonacci sequence:\n",
            "0\n",
            "1\n",
            "1\n",
            "2\n",
            "3\n"
          ],
          "name": "stdout"
        }
      ]
    }
  ]
}