{
  "nbformat": 4,
  "nbformat_minor": 0,
  "metadata": {
    "colab": {
      "name": "python_june22.ipynb",
      "provenance": [],
      "authorship_tag": "ABX9TyPzAj5+MGlYmr4n/+8/vF8A",
      "include_colab_link": true
    },
    "kernelspec": {
      "name": "python3",
      "display_name": "Python 3"
    }
  },
  "cells": [
    {
      "cell_type": "markdown",
      "metadata": {
        "id": "view-in-github",
        "colab_type": "text"
      },
      "source": [
        "<a href=\"https://colab.research.google.com/github/charan5045/python-workshop/blob/master/python_june22.ipynb\" target=\"_parent\"><img src=\"https://colab.research.google.com/assets/colab-badge.svg\" alt=\"Open In Colab\"/></a>"
      ]
    },
    {
      "cell_type": "markdown",
      "metadata": {
        "id": "VEFb991jIhxl",
        "colab_type": "text"
      },
      "source": [
        "Shot circuit evaluation of logical expression"
      ]
    },
    {
      "cell_type": "code",
      "metadata": {
        "id": "PTmBnMmmPpjp",
        "colab_type": "code",
        "colab": {
          "base_uri": "https://localhost:8080/",
          "height": 33
        },
        "outputId": "95b54889-c121-4c2c-9092-a0e70b13a460"
      },
      "source": [
        "x=0\n",
        "y=3\n",
        "x>0 and y!=0 and x/y "
      ],
      "execution_count": 5,
      "outputs": [
        {
          "output_type": "execute_result",
          "data": {
            "text/plain": [
              "False"
            ]
          },
          "metadata": {
            "tags": []
          },
          "execution_count": 5
        }
      ]
    },
    {
      "cell_type": "code",
      "metadata": {
        "id": "T8uGLouHQ8Iq",
        "colab_type": "code",
        "colab": {
          "base_uri": "https://localhost:8080/",
          "height": 33
        },
        "outputId": "f60822d3-d70e-414a-f769-d0aeab235e0c"
      },
      "source": [
        "x=0\n",
        "y=3\n",
        "x>0 and y>=0 and x/y "
      ],
      "execution_count": 8,
      "outputs": [
        {
          "output_type": "execute_result",
          "data": {
            "text/plain": [
              "False"
            ]
          },
          "metadata": {
            "tags": []
          },
          "execution_count": 8
        }
      ]
    },
    {
      "cell_type": "markdown",
      "metadata": {
        "id": "b3TKXBxwR3xa",
        "colab_type": "text"
      },
      "source": [
        "Function\n"
      ]
    },
    {
      "cell_type": "markdown",
      "metadata": {
        "id": "Q_19V8nITivQ",
        "colab_type": "text"
      },
      "source": [
        "def functionname(arguments):\n",
        "  statements                               function syntax"
      ]
    },
    {
      "cell_type": "code",
      "metadata": {
        "id": "MQ1u0i1ETOh1",
        "colab_type": "code",
        "colab": {}
      },
      "source": [
        "def greeting(name):\n",
        "  print(\"love u\",name)"
      ],
      "execution_count": 16,
      "outputs": []
    },
    {
      "cell_type": "code",
      "metadata": {
        "id": "hyjDZgr3UjVp",
        "colab_type": "code",
        "colab": {
          "base_uri": "https://localhost:8080/",
          "height": 33
        },
        "outputId": "4e73aa44-f150-49d1-9944-ec1ae4194b5b"
      },
      "source": [
        "greeting('Cherry')"
      ],
      "execution_count": 17,
      "outputs": [
        {
          "output_type": "stream",
          "text": [
            "love u Cherry\n"
          ],
          "name": "stdout"
        }
      ]
    },
    {
      "cell_type": "code",
      "metadata": {
        "id": "lF3B-YeUWRAV",
        "colab_type": "code",
        "colab": {}
      },
      "source": [
        "def add(a,b):\n",
        " return a+b"
      ],
      "execution_count": 24,
      "outputs": []
    },
    {
      "cell_type": "code",
      "metadata": {
        "id": "DIpi6-PKWnAV",
        "colab_type": "code",
        "colab": {
          "base_uri": "https://localhost:8080/",
          "height": 33
        },
        "outputId": "96fe063a-7a2d-450a-f814-b6a8110b39f4"
      },
      "source": [
        "sum=add(7,7)\n",
        "print(\"sum is\",sum)"
      ],
      "execution_count": 25,
      "outputs": [
        {
          "output_type": "stream",
          "text": [
            "sum is 14\n"
          ],
          "name": "stdout"
        }
      ]
    },
    {
      "cell_type": "code",
      "metadata": {
        "id": "ZELKKVgCY2Fo",
        "colab_type": "code",
        "colab": {
          "base_uri": "https://localhost:8080/",
          "height": 33
        },
        "outputId": "ff61ad93-7351-418c-f37d-6ee23135a497"
      },
      "source": [
        "def greatest(a,b):\n",
        "   if a>b:\n",
        "     return a \n",
        "   else: \n",
        "     return b \n",
        "greatest(13,7) \n",
        "\n"
      ],
      "execution_count": 29,
      "outputs": [
        {
          "output_type": "execute_result",
          "data": {
            "text/plain": [
              "13"
            ]
          },
          "metadata": {
            "tags": []
          },
          "execution_count": 29
        }
      ]
    },
    {
      "cell_type": "code",
      "metadata": {
        "id": "FVw2-onEas7y",
        "colab_type": "code",
        "colab": {}
      },
      "source": [
        "def add(a,b):\n",
        "  c=5\n",
        "  print('c inside=',c)"
      ],
      "execution_count": 35,
      "outputs": []
    },
    {
      "cell_type": "code",
      "metadata": {
        "id": "EkVtw3UJbA9U",
        "colab_type": "code",
        "colab": {
          "base_uri": "https://localhost:8080/",
          "height": 228
        },
        "outputId": "22e6f999-9943-4855-ea03-128a7fbbf1f2"
      },
      "source": [
        "add(7,5)\n",
        "print(\"sum is\",sum)\n",
        "print(\"c outdside is\",c)"
      ],
      "execution_count": 36,
      "outputs": [
        {
          "output_type": "stream",
          "text": [
            "c inside= 5\n",
            "sum is 14\n"
          ],
          "name": "stdout"
        },
        {
          "output_type": "error",
          "ename": "NameError",
          "evalue": "ignored",
          "traceback": [
            "\u001b[0;31m---------------------------------------------------------------------------\u001b[0m",
            "\u001b[0;31mNameError\u001b[0m                                 Traceback (most recent call last)",
            "\u001b[0;32m<ipython-input-36-7fe6a85af379>\u001b[0m in \u001b[0;36m<module>\u001b[0;34m()\u001b[0m\n\u001b[1;32m      1\u001b[0m \u001b[0madd\u001b[0m\u001b[0;34m(\u001b[0m\u001b[0;36m7\u001b[0m\u001b[0;34m,\u001b[0m\u001b[0;36m5\u001b[0m\u001b[0;34m)\u001b[0m\u001b[0;34m\u001b[0m\u001b[0;34m\u001b[0m\u001b[0m\n\u001b[1;32m      2\u001b[0m \u001b[0mprint\u001b[0m\u001b[0;34m(\u001b[0m\u001b[0;34m\"sum is\"\u001b[0m\u001b[0;34m,\u001b[0m\u001b[0msum\u001b[0m\u001b[0;34m)\u001b[0m\u001b[0;34m\u001b[0m\u001b[0;34m\u001b[0m\u001b[0m\n\u001b[0;32m----> 3\u001b[0;31m \u001b[0mprint\u001b[0m\u001b[0;34m(\u001b[0m\u001b[0;34m\"c outdside is\"\u001b[0m\u001b[0;34m,\u001b[0m\u001b[0mc\u001b[0m\u001b[0;34m)\u001b[0m\u001b[0;34m\u001b[0m\u001b[0;34m\u001b[0m\u001b[0m\n\u001b[0m",
            "\u001b[0;31mNameError\u001b[0m: name 'c' is not defined"
          ]
        }
      ]
    },
    {
      "cell_type": "code",
      "metadata": {
        "id": "9xE4QyVYdPAW",
        "colab_type": "code",
        "colab": {}
      },
      "source": [
        "def faculty(name, dept='ece'):\n",
        "  print('facultyname:',name)\n",
        "  print(dept)"
      ],
      "execution_count": 43,
      "outputs": []
    },
    {
      "cell_type": "code",
      "metadata": {
        "id": "B876SKHNdnwN",
        "colab_type": "code",
        "colab": {
          "base_uri": "https://localhost:8080/",
          "height": 50
        },
        "outputId": "3b952dd8-3a2f-4cbf-b87e-d46e42278a08"
      },
      "source": [
        "faculty('mahesh')"
      ],
      "execution_count": 44,
      "outputs": [
        {
          "output_type": "stream",
          "text": [
            "facultyname: mahesh\n",
            "ece\n"
          ],
          "name": "stdout"
        }
      ]
    },
    {
      "cell_type": "code",
      "metadata": {
        "id": "1MJMUFYDgP-m",
        "colab_type": "code",
        "colab": {}
      },
      "source": [
        "def number(n,*v_tuple):\n",
        "  for var in v_tuple:\n",
        "    print(var)"
      ],
      "execution_count": 45,
      "outputs": []
    },
    {
      "cell_type": "code",
      "metadata": {
        "id": "lL6PHQJmg6Pn",
        "colab_type": "code",
        "colab": {
          "base_uri": "https://localhost:8080/",
          "height": 117
        },
        "outputId": "4d76fccc-b307-4c6b-93ec-48086fb37805"
      },
      "source": [
        "number(10,23,30,41,50,55,66)"
      ],
      "execution_count": 46,
      "outputs": [
        {
          "output_type": "stream",
          "text": [
            "23\n",
            "30\n",
            "41\n",
            "50\n",
            "55\n",
            "66\n"
          ],
          "name": "stdout"
        }
      ]
    }
  ]
}