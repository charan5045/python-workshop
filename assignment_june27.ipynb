{
  "nbformat": 4,
  "nbformat_minor": 0,
  "metadata": {
    "colab": {
      "name": "assignment_june27.ipynb",
      "provenance": [],
      "authorship_tag": "ABX9TyPrh/99GputMn6kghDXVIPc",
      "include_colab_link": true
    },
    "kernelspec": {
      "name": "python3",
      "display_name": "Python 3"
    }
  },
  "cells": [
    {
      "cell_type": "markdown",
      "metadata": {
        "id": "view-in-github",
        "colab_type": "text"
      },
      "source": [
        "<a href=\"https://colab.research.google.com/github/charan5045/python-workshop/blob/master/assignment_june27.ipynb\" target=\"_parent\"><img src=\"https://colab.research.google.com/assets/colab-badge.svg\" alt=\"Open In Colab\"/></a>"
      ]
    },
    {
      "cell_type": "markdown",
      "metadata": {
        "id": "uqlkXOQJzlj3",
        "colab_type": "text"
      },
      "source": [
        "1.Write a program that prints the integers from 1 to 100. But for multiples of three print \"Fizz\" instead of the number, and for the multiples of five print \"Buzz\". For numbers which are multiples of both three and five print \"FizzBuzz\"."
      ]
    },
    {
      "cell_type": "code",
      "metadata": {
        "id": "2-eoYBU4zcmA",
        "colab_type": "code",
        "colab": {
          "base_uri": "https://localhost:8080/",
          "height": 1000
        },
        "outputId": "87d9c6cc-db84-4c58-e3fe-bc56e7044b86"
      },
      "source": [
        "for i in range(0,101) :\n",
        "  if i%3==0:\n",
        "    print(\"fizz\",i) \n",
        "  if i%5==0:\n",
        "    print(\"buzz\",i) \n",
        "  if i%3==0 and i%5==0:\n",
        "    print(\"fizzbuzz\",i)\n",
        "  if i%3!=0 and i%5!=0:\n",
        "    print(i)"
      ],
      "execution_count": 1,
      "outputs": [
        {
          "output_type": "stream",
          "text": [
            "fizz 0\n",
            "buzz 0\n",
            "fizzbuzz 0\n",
            "1\n",
            "2\n",
            "fizz 3\n",
            "4\n",
            "buzz 5\n",
            "fizz 6\n",
            "7\n",
            "8\n",
            "fizz 9\n",
            "buzz 10\n",
            "11\n",
            "fizz 12\n",
            "13\n",
            "14\n",
            "fizz 15\n",
            "buzz 15\n",
            "fizzbuzz 15\n",
            "16\n",
            "17\n",
            "fizz 18\n",
            "19\n",
            "buzz 20\n",
            "fizz 21\n",
            "22\n",
            "23\n",
            "fizz 24\n",
            "buzz 25\n",
            "26\n",
            "fizz 27\n",
            "28\n",
            "29\n",
            "fizz 30\n",
            "buzz 30\n",
            "fizzbuzz 30\n",
            "31\n",
            "32\n",
            "fizz 33\n",
            "34\n",
            "buzz 35\n",
            "fizz 36\n",
            "37\n",
            "38\n",
            "fizz 39\n",
            "buzz 40\n",
            "41\n",
            "fizz 42\n",
            "43\n",
            "44\n",
            "fizz 45\n",
            "buzz 45\n",
            "fizzbuzz 45\n",
            "46\n",
            "47\n",
            "fizz 48\n",
            "49\n",
            "buzz 50\n",
            "fizz 51\n",
            "52\n",
            "53\n",
            "fizz 54\n",
            "buzz 55\n",
            "56\n",
            "fizz 57\n",
            "58\n",
            "59\n",
            "fizz 60\n",
            "buzz 60\n",
            "fizzbuzz 60\n",
            "61\n",
            "62\n",
            "fizz 63\n",
            "64\n",
            "buzz 65\n",
            "fizz 66\n",
            "67\n",
            "68\n",
            "fizz 69\n",
            "buzz 70\n",
            "71\n",
            "fizz 72\n",
            "73\n",
            "74\n",
            "fizz 75\n",
            "buzz 75\n",
            "fizzbuzz 75\n",
            "76\n",
            "77\n",
            "fizz 78\n",
            "79\n",
            "buzz 80\n",
            "fizz 81\n",
            "82\n",
            "83\n",
            "fizz 84\n",
            "buzz 85\n",
            "86\n",
            "fizz 87\n",
            "88\n",
            "89\n",
            "fizz 90\n",
            "buzz 90\n",
            "fizzbuzz 90\n",
            "91\n",
            "92\n",
            "fizz 93\n",
            "94\n",
            "buzz 95\n",
            "fizz 96\n",
            "97\n",
            "98\n",
            "fizz 99\n",
            "buzz 100\n"
          ],
          "name": "stdout"
        }
      ]
    },
    {
      "cell_type": "markdown",
      "metadata": {
        "id": "cWzWSAdxzvSd",
        "colab_type": "text"
      },
      "source": [
        "2.Write a python program to remove consecutive duplicates from list."
      ]
    },
    {
      "cell_type": "code",
      "metadata": {
        "id": "0m2sMhHdz3mc",
        "colab_type": "code",
        "colab": {
          "base_uri": "https://localhost:8080/",
          "height": 34
        },
        "outputId": "4a214ff9-f123-48b1-fe9a-ff0ed22cc40a"
      },
      "source": [
        "list=[10, 20,30,40,50,10,20,60,20]\n",
        "res=[]\n",
        "for i in list:\n",
        "  if i  not in res:\n",
        "    res.append(i)\n",
        "print(res)"
      ],
      "execution_count": 2,
      "outputs": [
        {
          "output_type": "stream",
          "text": [
            "[10, 20, 30, 40, 50, 60]\n"
          ],
          "name": "stdout"
        }
      ]
    },
    {
      "cell_type": "markdown",
      "metadata": {
        "id": "vCWGvVqSz89Z",
        "colab_type": "text"
      },
      "source": [
        "3.Write a python program to find unique element from a list."
      ]
    },
    {
      "cell_type": "code",
      "metadata": {
        "id": "mzV1e7MB0Bb_",
        "colab_type": "code",
        "colab": {
          "base_uri": "https://localhost:8080/",
          "height": 50
        },
        "outputId": "79ffa2c8-6c17-41fe-a5e5-1ba11273a11e"
      },
      "source": [
        "list =[1,2,3,4,5,6,7,8,89]\n",
        "n=int(input(\"enter number \")) \n",
        "for i in list:\n",
        "   if n in list:\n",
        "     print(\"element\",n,\"is present\")\n",
        "     break\n",
        "   else:\n",
        "     print(\"not in list \")\n",
        "     break"
      ],
      "execution_count": 3,
      "outputs": [
        {
          "output_type": "stream",
          "text": [
            "enter number 3\n",
            "element 3 is present\n"
          ],
          "name": "stdout"
        }
      ]
    },
    {
      "cell_type": "markdown",
      "metadata": {
        "id": "TRTVNyBr0K5x",
        "colab_type": "text"
      },
      "source": [
        "4.Write a function to check whether a number is in given range."
      ]
    },
    {
      "cell_type": "code",
      "metadata": {
        "id": "v6-0R1dw0OS3",
        "colab_type": "code",
        "colab": {
          "base_uri": "https://localhost:8080/",
          "height": 50
        },
        "outputId": "8aedd3dd-5de4-4675-d85b-21ba15b16cc8"
      },
      "source": [
        "\n",
        "n=int(input(\"enter  a number \")) \n",
        "for i in range(0, 100) :\n",
        "  if n ==i:\n",
        "    print(\"number\", i,\"is in range \")\n",
        "    break"
      ],
      "execution_count": 4,
      "outputs": [
        {
          "output_type": "stream",
          "text": [
            "enter  a number 33\n",
            "number 33 is in range \n"
          ],
          "name": "stdout"
        }
      ]
    },
    {
      "cell_type": "markdown",
      "metadata": {
        "id": "40SDtyDi0WZJ",
        "colab_type": "text"
      },
      "source": [
        "5.Write a python function that accepts a string and calculates the number of upper case and lower case letters. Sample string =\"Hello Mr.Rogers how are you this fine Tuesday? \" Output:no of upper characters=4 No of lower characters=33"
      ]
    },
    {
      "cell_type": "code",
      "metadata": {
        "id": "ZbbBdGH60alM",
        "colab_type": "code",
        "colab": {
          "base_uri": "https://localhost:8080/",
          "height": 50
        },
        "outputId": "d076f9fc-b418-4fd7-f11e-3b4a8dfe1972"
      },
      "source": [
        "Str=\"Hello Mr.Rogers how are you this fine Tuesday ? \"\n",
        "count=0\n",
        "count2=0\n",
        "for i in Str:\n",
        "  if(i.isupper()) :\n",
        "     count+=1\n",
        "  elif(i.islower()):\n",
        "     count2+=1\n",
        "print(\"the number of upper case characters are \",count) \n",
        "print(\" The number of lower case characters are\",count2)"
      ],
      "execution_count": 5,
      "outputs": [
        {
          "output_type": "stream",
          "text": [
            "the number of upper case characters are  4\n",
            " The number of lower case characters are 33\n"
          ],
          "name": "stdout"
        }
      ]
    }
  ]
}