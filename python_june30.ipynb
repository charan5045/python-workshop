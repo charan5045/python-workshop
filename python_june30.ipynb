{
  "nbformat": 4,
  "nbformat_minor": 0,
  "metadata": {
    "colab": {
      "name": "python_june30",
      "provenance": [],
      "authorship_tag": "ABX9TyOerdCPyzGHrxgM9Yyphdw6",
      "include_colab_link": true
    },
    "kernelspec": {
      "name": "python3",
      "display_name": "Python 3"
    }
  },
  "cells": [
    {
      "cell_type": "markdown",
      "metadata": {
        "id": "view-in-github",
        "colab_type": "text"
      },
      "source": [
        "<a href=\"https://colab.research.google.com/github/charan5045/python-workshop/blob/master/python_june30.ipynb\" target=\"_parent\"><img src=\"https://colab.research.google.com/assets/colab-badge.svg\" alt=\"Open In Colab\"/></a>"
      ]
    },
    {
      "cell_type": "markdown",
      "metadata": {
        "id": "R4HKo4HrcvMW",
        "colab_type": "text"
      },
      "source": [
        "##File handiling\n",
        "\n",
        "1.creating a file\n",
        "\n",
        "2.adding content to file\n",
        "\n",
        "3.reading content from file\n",
        "\n",
        "4.anaming a file\n",
        "\n",
        "5.removing a file\n",
        "\n",
        "#modes\n",
        "\n",
        "1.read-r\n",
        "\n",
        "2.write-w\n",
        "\n",
        "3.append-a\n",
        "\n",
        "4.create-x\n",
        "\n",
        "5.read and write-r+\n",
        "\n",
        "#basic function\n",
        "\n",
        "open()\n",
        "\n",
        "close()"
      ]
    },
    {
      "cell_type": "code",
      "metadata": {
        "id": "WUfQ3cWicPHu",
        "colab_type": "code",
        "colab": {}
      },
      "source": [
        "f=open(\"demo1.txt\",\"w\")\n",
        "f.write(\"cherry\")\n",
        "f.close()"
      ],
      "execution_count": 6,
      "outputs": []
    },
    {
      "cell_type": "code",
      "metadata": {
        "id": "vWoAxcXKg9fq",
        "colab_type": "code",
        "colab": {
          "base_uri": "https://localhost:8080/",
          "height": 34
        },
        "outputId": "4152e0d7-d603-41dc-e59d-0c2211e1f0a0"
      },
      "source": [
        "f=open(\"demo1.txt\",\"r\")\n",
        "str=f.read()\n",
        "print(str)\n",
        "f.close()"
      ],
      "execution_count": 7,
      "outputs": [
        {
          "output_type": "stream",
          "text": [
            "cherry\n"
          ],
          "name": "stdout"
        }
      ]
    },
    {
      "cell_type": "code",
      "metadata": {
        "id": "Sg5-VC-mhkxZ",
        "colab_type": "code",
        "colab": {
          "base_uri": "https://localhost:8080/",
          "height": 50
        },
        "outputId": "51c8e8a7-50af-41bb-f5c6-28971e36ae1b"
      },
      "source": [
        "f=open(\"demo1.txt\",\"r\")\n",
        "str=f.read()\n",
        "print(str)\n",
        "print(type(str))\n",
        "f.close()"
      ],
      "execution_count": 9,
      "outputs": [
        {
          "output_type": "stream",
          "text": [
            "cherry\n",
            "<class 'str'>\n"
          ],
          "name": "stdout"
        }
      ]
    },
    {
      "cell_type": "code",
      "metadata": {
        "id": "ulGtQxcshy6N",
        "colab_type": "code",
        "colab": {
          "base_uri": "https://localhost:8080/",
          "height": 34
        },
        "outputId": "b7b319db-2fd4-47be-de39-9dc915ade850"
      },
      "source": [
        "f=open(\"demo1.txt\",\"r\")\n",
        "print(f.read())\n",
        "f.close()"
      ],
      "execution_count": 10,
      "outputs": [
        {
          "output_type": "stream",
          "text": [
            "cherry\n"
          ],
          "name": "stdout"
        }
      ]
    },
    {
      "cell_type": "code",
      "metadata": {
        "id": "HpaloZIMh_VS",
        "colab_type": "code",
        "colab": {}
      },
      "source": [
        "f=open(\"demo1.txt\",\"a\")\n",
        "s='''I love\n",
        "my\n",
        "self'''\n",
        "f.write(\"cherry\")\n",
        "f.close()"
      ],
      "execution_count": 16,
      "outputs": []
    },
    {
      "cell_type": "code",
      "metadata": {
        "id": "DOdlAkzqjl0L",
        "colab_type": "code",
        "colab": {}
      },
      "source": [
        "import os\n",
        "os.rename(\"demo1.txt\",\"python_files.txt\")\n"
      ],
      "execution_count": 17,
      "outputs": []
    },
    {
      "cell_type": "code",
      "metadata": {
        "id": "IKYqRZdWk-4b",
        "colab_type": "code",
        "colab": {}
      },
      "source": [
        "os.remove(\"python_files.txt\")"
      ],
      "execution_count": 18,
      "outputs": []
    },
    {
      "cell_type": "markdown",
      "metadata": {
        "id": "7kZrbkRKmbxQ",
        "colab_type": "text"
      },
      "source": [
        "1.create a file and add content to a file\n",
        "\n",
        "2.create an empty file and copy content from previous file to new file"
      ]
    },
    {
      "cell_type": "code",
      "metadata": {
        "id": "YvLvdGJ1lHPS",
        "colab_type": "code",
        "colab": {}
      },
      "source": [
        "f1=open(\"file1.txt\",\"w\")\n",
        "s='''I am \n",
        "a\n",
        "rider....'''\n",
        "f1.write(s)\n",
        "f1.close()"
      ],
      "execution_count": 19,
      "outputs": []
    },
    {
      "cell_type": "code",
      "metadata": {
        "id": "RmWjZI4Lndqm",
        "colab_type": "code",
        "colab": {}
      },
      "source": [
        "f2=open(\"file2.txt\",\"w\")\n",
        "f1=open(\"file1.txt\",\"r\")\n",
        "for line in f1:\n",
        "  f2.write(line)\n",
        "f1.close()\n",
        "f2.close()"
      ],
      "execution_count": 22,
      "outputs": []
    },
    {
      "cell_type": "code",
      "metadata": {
        "id": "hLe1djjqntJw",
        "colab_type": "code",
        "colab": {}
      },
      "source": [
        "f3=open(\"file3.txt\",\"w\")\n",
        "s='''I am \n",
        "a\n",
        "rider....\n",
        "provider'''\n",
        "f3.write(s)\n",
        "f3.close()"
      ],
      "execution_count": 23,
      "outputs": []
    },
    {
      "cell_type": "code",
      "metadata": {
        "id": "Rc1lEG7Kp6VU",
        "colab_type": "code",
        "colab": {
          "base_uri": "https://localhost:8080/",
          "height": 84
        },
        "outputId": "1afe34b8-a3c8-4166-aee8-ca7c6438b359"
      },
      "source": [
        "f=open(\"file3.txt\",\"r\")\n",
        "s=f.read()\n",
        "print(len(s))\n",
        "print(s.split())\n",
        "print(len(s.split()))\n",
        "print(len(s.split('\\n')))\n",
        "f.close()"
      ],
      "execution_count": 29,
      "outputs": [
        {
          "output_type": "stream",
          "text": [
            "26\n",
            "['I', 'am', 'a', 'rider....', 'provider']\n",
            "5\n",
            "4\n"
          ],
          "name": "stdout"
        }
      ]
    },
    {
      "cell_type": "markdown",
      "metadata": {
        "id": "mAq2MbYQrOHp",
        "colab_type": "text"
      },
      "source": [
        "#Exception handling\n",
        "\n",
        "try and except"
      ]
    },
    {
      "cell_type": "code",
      "metadata": {
        "id": "8sEsz4tgrd6J",
        "colab_type": "code",
        "colab": {
          "base_uri": "https://localhost:8080/",
          "height": 178
        },
        "outputId": "0291a210-d8f7-4c40-98cc-b883ce029290"
      },
      "source": [
        "f=open(\"file5.txt\")\n",
        "f.close()"
      ],
      "execution_count": 32,
      "outputs": [
        {
          "output_type": "error",
          "ename": "FileNotFoundError",
          "evalue": "ignored",
          "traceback": [
            "\u001b[0;31m---------------------------------------------------------------------------\u001b[0m",
            "\u001b[0;31mFileNotFoundError\u001b[0m                         Traceback (most recent call last)",
            "\u001b[0;32m<ipython-input-32-6e78f9eff726>\u001b[0m in \u001b[0;36m<module>\u001b[0;34m()\u001b[0m\n\u001b[0;32m----> 1\u001b[0;31m \u001b[0mf\u001b[0m\u001b[0;34m=\u001b[0m\u001b[0mopen\u001b[0m\u001b[0;34m(\u001b[0m\u001b[0;34m\"file5.txt\"\u001b[0m\u001b[0;34m)\u001b[0m\u001b[0;34m\u001b[0m\u001b[0;34m\u001b[0m\u001b[0m\n\u001b[0m\u001b[1;32m      2\u001b[0m \u001b[0mf\u001b[0m\u001b[0;34m.\u001b[0m\u001b[0mclose\u001b[0m\u001b[0;34m(\u001b[0m\u001b[0;34m)\u001b[0m\u001b[0;34m\u001b[0m\u001b[0;34m\u001b[0m\u001b[0m\n",
            "\u001b[0;31mFileNotFoundError\u001b[0m: [Errno 2] No such file or directory: 'file5.txt'"
          ]
        }
      ]
    },
    {
      "cell_type": "code",
      "metadata": {
        "id": "8p2qonF6r2YX",
        "colab_type": "code",
        "colab": {
          "base_uri": "https://localhost:8080/",
          "height": 34
        },
        "outputId": "24a9aa8d-d6ae-4672-bc80-f4fac44f4c05"
      },
      "source": [
        "try:\n",
        "  f=open(\"file5.txt\")\n",
        "except:\n",
        "  print(\"file dosent exist\")\n",
        "finally:\n",
        "  f.close()\n"
      ],
      "execution_count": 33,
      "outputs": [
        {
          "output_type": "stream",
          "text": [
            "file dosent exist\n"
          ],
          "name": "stdout"
        }
      ]
    },
    {
      "cell_type": "code",
      "metadata": {
        "id": "qu7Qx2Vdsvuv",
        "colab_type": "code",
        "colab": {
          "base_uri": "https://localhost:8080/",
          "height": 50
        },
        "outputId": "b9d74777-8f6d-492e-e5d6-06fbfe568af7"
      },
      "source": [
        "s='1 2\\t 3\\n 4'\n",
        "print(s)"
      ],
      "execution_count": 34,
      "outputs": [
        {
          "output_type": "stream",
          "text": [
            "1 2\t 3\n",
            " 4\n"
          ],
          "name": "stdout"
        }
      ]
    },
    {
      "cell_type": "code",
      "metadata": {
        "id": "2PE_MWHus6jW",
        "colab_type": "code",
        "colab": {
          "base_uri": "https://localhost:8080/",
          "height": 34
        },
        "outputId": "3146a3c2-a919-4d3b-fa89-86677eed09b4"
      },
      "source": [
        "print(repr(s))"
      ],
      "execution_count": 35,
      "outputs": [
        {
          "output_type": "stream",
          "text": [
            "'1 2\\t 3\\n 4'\n"
          ],
          "name": "stdout"
        }
      ]
    }
  ]
}