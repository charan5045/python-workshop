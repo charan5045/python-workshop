{
  "nbformat": 4,
  "nbformat_minor": 0,
  "metadata": {
    "colab": {
      "name": "assignment_june30.ipynb",
      "provenance": [],
      "authorship_tag": "ABX9TyNPRcb8Os2fo7lRlecD6de/",
      "include_colab_link": true
    },
    "kernelspec": {
      "name": "python3",
      "display_name": "Python 3"
    }
  },
  "cells": [
    {
      "cell_type": "markdown",
      "metadata": {
        "id": "view-in-github",
        "colab_type": "text"
      },
      "source": [
        "<a href=\"https://colab.research.google.com/github/charan5045/python-workshop/blob/master/assignment_june30.ipynb\" target=\"_parent\"><img src=\"https://colab.research.google.com/assets/colab-badge.svg\" alt=\"Open In Colab\"/></a>"
      ]
    },
    {
      "cell_type": "markdown",
      "metadata": {
        "id": "rXmN5poevo8S",
        "colab_type": "text"
      },
      "source": [
        "1.write a python program to read an entire text file"
      ]
    },
    {
      "cell_type": "code",
      "metadata": {
        "id": "kk3TbkUGvjkY",
        "colab_type": "code",
        "colab": {}
      },
      "source": [
        "f=open(\"python.txt\",\"w\")\n",
        "f.close()"
      ],
      "execution_count": 1,
      "outputs": []
    },
    {
      "cell_type": "code",
      "metadata": {
        "id": "Hfw6txWJv6UN",
        "colab_type": "code",
        "colab": {}
      },
      "source": [
        "f=open(\"python1.txt\",\"w\")\n",
        "f.write(\"hey how do you do\")\n",
        "f.close()"
      ],
      "execution_count": 2,
      "outputs": []
    },
    {
      "cell_type": "code",
      "metadata": {
        "id": "bJh-UUIZv98i",
        "colab_type": "code",
        "colab": {
          "base_uri": "https://localhost:8080/",
          "height": 35
        },
        "outputId": "f58fae0e-ad5a-4da1-ef58-ff7c07d93244"
      },
      "source": [
        "f=open(\"python1.txt\",\"r\")\n",
        "str=f.read()\n",
        "print(str)\n",
        "f.close()"
      ],
      "execution_count": 3,
      "outputs": [
        {
          "output_type": "stream",
          "text": [
            "hey how do you do\n"
          ],
          "name": "stdout"
        }
      ]
    },
    {
      "cell_type": "markdown",
      "metadata": {
        "id": "pVpI7KLBv4VO",
        "colab_type": "text"
      },
      "source": [
        "2.write a python program to read first n lines of a file"
      ]
    },
    {
      "cell_type": "code",
      "metadata": {
        "id": "TPtRwUOlv22H",
        "colab_type": "code",
        "colab": {}
      },
      "source": [
        "a_file=open(\"file_name.txt\",\"w\")\n",
        "f.close()"
      ],
      "execution_count": 4,
      "outputs": []
    },
    {
      "cell_type": "code",
      "metadata": {
        "id": "IlMxN3h-wLZb",
        "colab_type": "code",
        "colab": {
          "base_uri": "https://localhost:8080/",
          "height": 35
        },
        "outputId": "e32e5870-18f8-4d18-9a04-940b7c7039cb"
      },
      "source": [
        "a_file = open(\"file_name.txt\")\n",
        "number_of_lines = 3\n",
        "for i in range(number_of_lines):\n",
        "    line = a_file.readline()\n",
        "print(line)"
      ],
      "execution_count": 5,
      "outputs": [
        {
          "output_type": "stream",
          "text": [
            "\n"
          ],
          "name": "stdout"
        }
      ]
    },
    {
      "cell_type": "markdown",
      "metadata": {
        "id": "Kt5CJXVAwxv5",
        "colab_type": "text"
      },
      "source": [
        "3.Write a Python program to append text to a file and display the text."
      ]
    },
    {
      "cell_type": "code",
      "metadata": {
        "id": "yOhwLs7-w0pu",
        "colab_type": "code",
        "colab": {}
      },
      "source": [
        "f=open(\"python.txt\",\"w\")\n",
        "f.close()"
      ],
      "execution_count": 6,
      "outputs": []
    },
    {
      "cell_type": "code",
      "metadata": {
        "id": "DI4OE7Ebw3T0",
        "colab_type": "code",
        "colab": {}
      },
      "source": [
        "f=open(\"python1.txt\",\"w\")\n",
        "f.write(\"hey how do you do\")\n",
        "f.close()"
      ],
      "execution_count": 7,
      "outputs": []
    },
    {
      "cell_type": "code",
      "metadata": {
        "id": "gPFJItL-w508",
        "colab_type": "code",
        "colab": {
          "base_uri": "https://localhost:8080/",
          "height": 35
        },
        "outputId": "f04f89e9-1918-433a-9499-c25cbe0ec668"
      },
      "source": [
        "f=open(\"python1.txt\",\"r\")\n",
        "print(f.read())\n",
        "f.close()"
      ],
      "execution_count": 8,
      "outputs": [
        {
          "output_type": "stream",
          "text": [
            "hey how do you do\n"
          ],
          "name": "stdout"
        }
      ]
    },
    {
      "cell_type": "markdown",
      "metadata": {
        "id": "_Hy57xAaxFmc",
        "colab_type": "text"
      },
      "source": [
        "4.Write a Python program to read last n lines of a file."
      ]
    },
    {
      "cell_type": "code",
      "metadata": {
        "id": "-wUIxUm_xGJq",
        "colab_type": "code",
        "colab": {
          "base_uri": "https://localhost:8080/",
          "height": 35
        },
        "outputId": "e837ac0d-3196-4412-9f0e-f5650c90c074"
      },
      "source": [
        "def LastNlines(fname, N):\n",
        "  with open(fname) as file:\n",
        "    for line in (file.readlines() [-N:]):\n",
        "      print(line, end ='')\n",
        "if __name__ == '__main__':\n",
        "  fname = 'File1.txt'\n",
        "  N = 3\n",
        "  try:\n",
        "   LastNlines(fname, N) \n",
        "  except:\n",
        "   print('File not found')"
      ],
      "execution_count": 9,
      "outputs": [
        {
          "output_type": "stream",
          "text": [
            "File not found\n"
          ],
          "name": "stdout"
        }
      ]
    },
    {
      "cell_type": "markdown",
      "metadata": {
        "id": "NOMOsflexMdj",
        "colab_type": "text"
      },
      "source": [
        "\n",
        "5.Write a Python program to read a file line by line store it into a variable."
      ]
    },
    {
      "cell_type": "code",
      "metadata": {
        "id": "GzKN8OfqxLYa",
        "colab_type": "code",
        "colab": {}
      },
      "source": [
        "f1=open(\"test.txt\",\"w\")\n",
        "f.close()"
      ],
      "execution_count": 10,
      "outputs": []
    },
    {
      "cell_type": "code",
      "metadata": {
        "id": "nBlqhKyexSxh",
        "colab_type": "code",
        "colab": {}
      },
      "source": [
        "f1=open(\"test1.txt\",\"w\")\n",
        "f1.write(\"hi\")\n",
        "f.close()"
      ],
      "execution_count": 11,
      "outputs": []
    },
    {
      "cell_type": "code",
      "metadata": {
        "id": "pfwtOYmsxWXT",
        "colab_type": "code",
        "colab": {
          "base_uri": "https://localhost:8080/",
          "height": 35
        },
        "outputId": "5936d5a1-7647-4a8f-b52d-f310b8e9c61f"
      },
      "source": [
        "\n",
        "f1=open('test1.txt').readlines()\n",
        "print(f1)"
      ],
      "execution_count": 12,
      "outputs": [
        {
          "output_type": "stream",
          "text": [
            "[]\n"
          ],
          "name": "stdout"
        }
      ]
    },
    {
      "cell_type": "markdown",
      "metadata": {
        "id": "YFTer787xcQT",
        "colab_type": "text"
      },
      "source": [
        "6.write a program to read a file line by line store it into a list"
      ]
    },
    {
      "cell_type": "code",
      "metadata": {
        "id": "j3wu7Z0lzUTu",
        "colab_type": "code",
        "colab": {}
      },
      "source": [
        "\n",
        "infile=open(\"test.txt\",\"w\")\n",
        "f.close()"
      ],
      "execution_count": 13,
      "outputs": []
    },
    {
      "cell_type": "code",
      "metadata": {
        "id": "8vJEHoY-zXAf",
        "colab_type": "code",
        "colab": {}
      },
      "source": [
        "infile=open(\"test1.txt\",\"w\")\n",
        "infile.write(\"hello\")\n",
        "f.close()"
      ],
      "execution_count": 14,
      "outputs": []
    },
    {
      "cell_type": "code",
      "metadata": {
        "id": "69Dswf8GzanR",
        "colab_type": "code",
        "colab": {
          "base_uri": "https://localhost:8080/",
          "height": 35
        },
        "outputId": "bcfd6497-175e-4ee2-a8ba-b1d1e60317e1"
      },
      "source": [
        "infile = \"test1.txt\"\n",
        "content_list = open(infile).readlines()\n",
        "print (content_list)"
      ],
      "execution_count": 15,
      "outputs": [
        {
          "output_type": "stream",
          "text": [
            "['hello']\n"
          ],
          "name": "stdout"
        }
      ]
    },
    {
      "cell_type": "markdown",
      "metadata": {
        "id": "j2_C8aSWzhTz",
        "colab_type": "text"
      },
      "source": [
        "7.write a python program to read a file line by line store it into a array."
      ]
    },
    {
      "cell_type": "code",
      "metadata": {
        "id": "HdH97idpzjzN",
        "colab_type": "code",
        "colab": {}
      },
      "source": [
        "f2=open(\"test1.txt\",\"w\")\n",
        "f.close()"
      ],
      "execution_count": 16,
      "outputs": []
    },
    {
      "cell_type": "code",
      "metadata": {
        "id": "HIZ7xxUEznGl",
        "colab_type": "code",
        "colab": {}
      },
      "source": [
        "f2=open(\"test1.txt\",\"w\")\n",
        "s='''how\n",
        "     are\n",
        "     You'''\n",
        "f2.write(s)\n",
        "f.close()"
      ],
      "execution_count": 17,
      "outputs": []
    },
    {
      "cell_type": "code",
      "metadata": {
        "id": "gpyFmMPKzrR2",
        "colab_type": "code",
        "colab": {
          "base_uri": "https://localhost:8080/",
          "height": 35
        },
        "outputId": "1eff1a86-6288-4306-9636-6a3b1fcb704d"
      },
      "source": [
        "f2=(\"test1.txt\")\n",
        "content_array=open(f2).readlines()\n",
        "print(content_array)"
      ],
      "execution_count": 18,
      "outputs": [
        {
          "output_type": "stream",
          "text": [
            "['how\\n', '     are\\n', '     You']\n"
          ],
          "name": "stdout"
        }
      ]
    },
    {
      "cell_type": "markdown",
      "metadata": {
        "id": "D6QLajH_z01t",
        "colab_type": "text"
      },
      "source": [
        "8.Write a Python program to count the number of lines in a text file."
      ]
    },
    {
      "cell_type": "code",
      "metadata": {
        "id": "oSq9B0Fy0Zh6",
        "colab_type": "code",
        "colab": {}
      },
      "source": [
        "f3=open(\"file.txt\",\"w\")\n",
        "f3.close()"
      ],
      "execution_count": 19,
      "outputs": []
    },
    {
      "cell_type": "code",
      "metadata": {
        "id": "zo0zz4AV0bzg",
        "colab_type": "code",
        "colab": {}
      },
      "source": [
        "f3=open(\"file.txt\",\"w\")\n",
        "s='''i\n",
        "     love to\n",
        "     Code'''\n",
        "f3.write(s)\n",
        "f3.close()"
      ],
      "execution_count": 20,
      "outputs": []
    },
    {
      "cell_type": "code",
      "metadata": {
        "id": "FGYQCIFF0fe7",
        "colab_type": "code",
        "colab": {
          "base_uri": "https://localhost:8080/",
          "height": 35
        },
        "outputId": "ddc7be0d-2a7d-4980-c135-bb138b60fc4b"
      },
      "source": [
        "f3=open(\"file.txt\",\"r\")\n",
        "s=f3.read()\n",
        "print(len(s.split('\\n')))\n",
        "f.close()"
      ],
      "execution_count": 21,
      "outputs": [
        {
          "output_type": "stream",
          "text": [
            "3\n"
          ],
          "name": "stdout"
        }
      ]
    },
    {
      "cell_type": "markdown",
      "metadata": {
        "id": "pqVgPvB30jx4",
        "colab_type": "text"
      },
      "source": [
        "9.write a python program to get the file size of a plain file."
      ]
    },
    {
      "cell_type": "code",
      "metadata": {
        "id": "Wi2oxXU-1QA2",
        "colab_type": "code",
        "colab": {}
      },
      "source": [
        "file=open(\"test.txt\",\"w\")\n",
        "f.close()"
      ],
      "execution_count": 22,
      "outputs": []
    },
    {
      "cell_type": "code",
      "metadata": {
        "id": "UhltC6Rm1SfK",
        "colab_type": "code",
        "colab": {}
      },
      "source": [
        "file=open(\"test.txt\",\"w\")\n",
        "file.write(\"good night\")\n",
        "f.close()"
      ],
      "execution_count": 23,
      "outputs": []
    },
    {
      "cell_type": "code",
      "metadata": {
        "id": "7Cupxegf1XUQ",
        "colab_type": "code",
        "colab": {
          "base_uri": "https://localhost:8080/",
          "height": 35
        },
        "outputId": "35d6b7a4-060a-4c8b-c307-41e4aca153a8"
      },
      "source": [
        "import os\n",
        "os.path.getsize(\"test.txt\")"
      ],
      "execution_count": 24,
      "outputs": [
        {
          "output_type": "execute_result",
          "data": {
            "text/plain": [
              "0"
            ]
          },
          "metadata": {
            "tags": []
          },
          "execution_count": 24
        }
      ]
    },
    {
      "cell_type": "markdown",
      "metadata": {
        "id": "B3Ht5Ov61ZYd",
        "colab_type": "text"
      },
      "source": [
        "10.write a python program to copy the contents of a file into another."
      ]
    },
    {
      "cell_type": "code",
      "metadata": {
        "id": "d4_wZv6H1eMZ",
        "colab_type": "code",
        "colab": {}
      },
      "source": [
        "file1=open(\"f1.txt\",\"w\")\n",
        "file1.close()"
      ],
      "execution_count": 25,
      "outputs": []
    },
    {
      "cell_type": "code",
      "metadata": {
        "id": "-N7rx6fn1h9F",
        "colab_type": "code",
        "colab": {}
      },
      "source": [
        "file1=open(\"f1.txt\",\"w\")\n",
        "s='''welcome \n",
        "     to gitam \n",
        "     University'''\n",
        "file1.write(s)\n",
        "file1.close()"
      ],
      "execution_count": 26,
      "outputs": []
    },
    {
      "cell_type": "code",
      "metadata": {
        "id": "CODZaaFg1k4D",
        "colab_type": "code",
        "colab": {}
      },
      "source": [
        "file2=open(\"f2.txt\",\"w\")\n",
        "file1=open(\"f1.txt\",\"r\")\n",
        "for line in file1:\n",
        "  file2.write(line)\n",
        "file1.close()\n",
        "file2.close()"
      ],
      "execution_count": 27,
      "outputs": []
    }
  ]
}