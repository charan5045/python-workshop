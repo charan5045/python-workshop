{
  "nbformat": 4,
  "nbformat_minor": 0,
  "metadata": {
    "colab": {
      "name": "assignment_june23.ipynb",
      "provenance": [],
      "authorship_tag": "ABX9TyN7KaR70coC8yNqijxi4JBl",
      "include_colab_link": true
    },
    "kernelspec": {
      "name": "python3",
      "display_name": "Python 3"
    }
  },
  "cells": [
    {
      "cell_type": "markdown",
      "metadata": {
        "id": "view-in-github",
        "colab_type": "text"
      },
      "source": [
        "<a href=\"https://colab.research.google.com/github/charan5045/python-workshop/blob/master/assignment_june23.ipynb\" target=\"_parent\"><img src=\"https://colab.research.google.com/assets/colab-badge.svg\" alt=\"Open In Colab\"/></a>"
      ]
    },
    {
      "cell_type": "markdown",
      "metadata": {
        "id": "H39FDfw_zkut",
        "colab_type": "text"
      },
      "source": [
        "1.\tWrite a Python program to find area of a circle using math function"
      ]
    },
    {
      "cell_type": "code",
      "metadata": {
        "id": "_ncLQaen2ReL",
        "colab_type": "code",
        "colab": {}
      },
      "source": [
        "import math\n",
        "r=float(input())\n",
        "area=3.14*pow(r,2)\n",
        "print(area)"
      ],
      "execution_count": null,
      "outputs": []
    },
    {
      "cell_type": "markdown",
      "metadata": {
        "id": "QTngK7LN2zOr",
        "colab_type": "text"
      },
      "source": [
        "2.\tWrite a program to find Area of Regular Polygon using math function."
      ]
    },
    {
      "cell_type": "code",
      "metadata": {
        "id": "OYVNmm0124qZ",
        "colab_type": "code",
        "colab": {}
      },
      "source": [
        "from math import tan\n",
        "n=int(input(\"no of sides is\"))\n",
        "s=int(input())\n",
        "area=((n*s)/(4*tan(3.14/n)))\n",
        "print(area)\n"
      ],
      "execution_count": null,
      "outputs": []
    },
    {
      "cell_type": "markdown",
      "metadata": {
        "id": "1pYVhamj3ihF",
        "colab_type": "text"
      },
      "source": [
        "3.\tWrite a program to find  Area of a Segment of a Circle Formula using math function."
      ]
    },
    {
      "cell_type": "code",
      "metadata": {
        "id": "5LNAL0fN3hh2",
        "colab_type": "code",
        "colab": {}
      },
      "source": [
        "from math import sin \n",
        "pi=3.14\n",
        "def area_of_segment(radius,angle):\n",
        "  area_of_sector=pi*pow(r,2)*(angle/60)\n",
        "  area_of_triangle=1/2*pow (r,2)*sin((a\n",
        "return area_of_sector-area_of_triangle\n",
        "\n",
        "radius=float(input())\n",
        "angle=int(input(\"angle is\"))\n",
        "print(\"area of minor segment is\",area_of_)\n",
        "print(\"major segment area is\",area_of_)\n"
      ],
      "execution_count": null,
      "outputs": []
    },
    {
      "cell_type": "markdown",
      "metadata": {
        "id": "Wu30MD3w69kK",
        "colab_type": "text"
      },
      "source": [
        "4.\tWrite a python program to shuffle list l1=[100,1,2,3,30,40,”hai”,”hello”]."
      ]
    },
    {
      "cell_type": "code",
      "metadata": {
        "id": "zzerJvvE7Ghi",
        "colab_type": "code",
        "colab": {}
      },
      "source": [
        "import random\n",
        "List=[100,12,3,30,40,\"hai\",\"hello\"]:\n",
        "random.shuffle(List)\n",
        "print(List)"
      ],
      "execution_count": null,
      "outputs": []
    },
    {
      "cell_type": "markdown",
      "metadata": {
        "id": "qwxkJ6-o70sm",
        "colab_type": "text"
      },
      "source": [
        "5.\tWrite a program to generate random numbers between 1,10000 and difference between each random number is 50."
      ]
    },
    {
      "cell_type": "code",
      "metadata": {
        "id": "mRL-BKRr76jf",
        "colab_type": "code",
        "colab": {}
      },
      "source": [
        "import random\n",
        "print('the random number with difference 50 is',random.randrange(0,110000,50))"
      ],
      "execution_count": null,
      "outputs": []
    },
    {
      "cell_type": "markdown",
      "metadata": {
        "id": "PonsmpHX86RD",
        "colab_type": "text"
      },
      "source": [
        "6.\tWrite a python program by using math module to find\n",
        "\n",
        "i.\tSin600\n",
        "\n",
        "ii.\tcos(pi)\n",
        "\n",
        "iii.\ttan900\n",
        "\n",
        "iv.\tangle of sin(0.8660254037844386)\n",
        "\n",
        "v.\t5^8\n",
        "\n",
        "vi.\tSquare root of 400\n",
        "\n",
        "vii.\tThe value of 5^e\n",
        "\n",
        "viii.\tThe value of Log(1024), base 2\n",
        "\n",
        "ix.\tThe value of Log(1024), base 10\n",
        "\n",
        "x.\tThe Floor and Ceiling value of 23.56 \n"
      ]
    },
    {
      "cell_type": "code",
      "metadata": {
        "id": "vbtLXkCj9Rdo",
        "colab_type": "code",
        "colab": {}
      },
      "source": [
        "import math\n",
        "math.sin(60)"
      ],
      "execution_count": null,
      "outputs": []
    },
    {
      "cell_type": "code",
      "metadata": {
        "id": "NrKodRYV9b2v",
        "colab_type": "code",
        "colab": {}
      },
      "source": [
        "math.cos(pi)"
      ],
      "execution_count": null,
      "outputs": []
    },
    {
      "cell_type": "code",
      "metadata": {
        "id": "kQDqpQoT9geQ",
        "colab_type": "code",
        "colab": {}
      },
      "source": [
        "math.tan(90)"
      ],
      "execution_count": null,
      "outputs": []
    },
    {
      "cell_type": "code",
      "metadata": {
        "id": "C4Jrkt-A9qKi",
        "colab_type": "code",
        "colab": {}
      },
      "source": [
        "math.degrees(sin(0.8660254037844386))"
      ],
      "execution_count": null,
      "outputs": []
    },
    {
      "cell_type": "code",
      "metadata": {
        "id": "9jY5rwBB9Ar_",
        "colab_type": "code",
        "colab": {}
      },
      "source": [
        "math.squrt(400)"
      ],
      "execution_count": null,
      "outputs": []
    },
    {
      "cell_type": "code",
      "metadata": {
        "id": "pou6Mu1q-Cqb",
        "colab_type": "code",
        "colab": {}
      },
      "source": [
        "math.log2(1024)"
      ],
      "execution_count": null,
      "outputs": []
    },
    {
      "cell_type": "code",
      "metadata": {
        "id": "jYE0gpXf-IWU",
        "colab_type": "code",
        "colab": {}
      },
      "source": [
        "math.log10(1024)"
      ],
      "execution_count": null,
      "outputs": []
    },
    {
      "cell_type": "code",
      "metadata": {
        "id": "bSHosyye-NAR",
        "colab_type": "code",
        "colab": {}
      },
      "source": [
        "math.floor(23.56)"
      ],
      "execution_count": null,
      "outputs": []
    },
    {
      "cell_type": "code",
      "metadata": {
        "id": "RJmf32ig-SY5",
        "colab_type": "code",
        "colab": {}
      },
      "source": [
        "math.ceil(23.56)"
      ],
      "execution_count": null,
      "outputs": []
    }
  ]
}