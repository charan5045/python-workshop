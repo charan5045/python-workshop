{
  "nbformat": 4,
  "nbformat_minor": 0,
  "metadata": {
    "colab": {
      "name": "python_june 25.ipynb",
      "provenance": [],
      "authorship_tag": "ABX9TyOZ/t7kyJZLhSsG3XX2yUgv",
      "include_colab_link": true
    },
    "kernelspec": {
      "name": "python3",
      "display_name": "Python 3"
    }
  },
  "cells": [
    {
      "cell_type": "markdown",
      "metadata": {
        "id": "view-in-github",
        "colab_type": "text"
      },
      "source": [
        "<a href=\"https://colab.research.google.com/github/charan5045/python-workshop/blob/master/python_june_25.ipynb\" target=\"_parent\"><img src=\"https://colab.research.google.com/assets/colab-badge.svg\" alt=\"Open In Colab\"/></a>"
      ]
    },
    {
      "cell_type": "code",
      "metadata": {
        "id": "5KTZDwyrj4IT",
        "colab_type": "code",
        "colab": {
          "base_uri": "https://localhost:8080/",
          "height": 35
        },
        "outputId": "a16fa951-4bf5-4f7b-d322-49ef85121643"
      },
      "source": [
        "for i in range(5,20,3):\n",
        "  print(i,end=' ')"
      ],
      "execution_count": 1,
      "outputs": [
        {
          "output_type": "stream",
          "text": [
            "5 8 11 14 17 "
          ],
          "name": "stdout"
        }
      ]
    },
    {
      "cell_type": "markdown",
      "metadata": {
        "id": "qMs54FRUsm_F",
        "colab_type": "text"
      },
      "source": [
        " python programme to generate all odd numbers upto 50"
      ]
    },
    {
      "cell_type": "code",
      "metadata": {
        "id": "g-E2lmtir2yz",
        "colab_type": "code",
        "colab": {
          "base_uri": "https://localhost:8080/",
          "height": 35
        },
        "outputId": "667b5322-34fe-4227-c769-bc0b57c1c6e4"
      },
      "source": [
        "for i in range(1,50,2):\n",
        "  print(i,end=' ')"
      ],
      "execution_count": 2,
      "outputs": [
        {
          "output_type": "stream",
          "text": [
            "1 3 5 7 9 11 13 15 17 19 21 23 25 27 29 31 33 35 37 39 41 43 45 47 49 "
          ],
          "name": "stdout"
        }
      ]
    },
    {
      "cell_type": "markdown",
      "metadata": {
        "id": "4QwIPDBOszZI",
        "colab_type": "text"
      },
      "source": [
        "python programme to generate all even numbers upto50"
      ]
    },
    {
      "cell_type": "code",
      "metadata": {
        "id": "EryWiPvrsTEv",
        "colab_type": "code",
        "colab": {
          "base_uri": "https://localhost:8080/",
          "height": 35
        },
        "outputId": "96e7a366-2d6f-4144-e175-de4e7b9a96ce"
      },
      "source": [
        "for i in range(2,50,2):\n",
        "  print(i,end=' ')"
      ],
      "execution_count": 5,
      "outputs": [
        {
          "output_type": "stream",
          "text": [
            "2 4 6 8 10 12 14 16 18 20 22 24 26 28 30 32 34 36 38 40 42 44 46 48 "
          ],
          "name": "stdout"
        }
      ]
    },
    {
      "cell_type": "code",
      "metadata": {
        "id": "khNQk888tEcy",
        "colab_type": "code",
        "colab": {
          "base_uri": "https://localhost:8080/",
          "height": 35
        },
        "outputId": "7c8145d5-a31a-454f-9be7-fedeb0e0a8fc"
      },
      "source": [
        "for i in range(-5,10,2):\n",
        "  print(i,end=' ')"
      ],
      "execution_count": 7,
      "outputs": [
        {
          "output_type": "stream",
          "text": [
            "-5 -3 -1 1 3 5 7 9 "
          ],
          "name": "stdout"
        }
      ]
    },
    {
      "cell_type": "code",
      "metadata": {
        "id": "kafHumGmtumT",
        "colab_type": "code",
        "colab": {
          "base_uri": "https://localhost:8080/",
          "height": 35
        },
        "outputId": "6b7f0547-ccac-4a97-b89f-074ca341ad5f"
      },
      "source": [
        "for i in range(-5,20,2):\n",
        "  print(i,end=' ')"
      ],
      "execution_count": 21,
      "outputs": [
        {
          "output_type": "stream",
          "text": [
            "-5 -3 -1 1 3 5 7 9 11 13 15 17 19 "
          ],
          "name": "stdout"
        }
      ]
    },
    {
      "cell_type": "code",
      "metadata": {
        "id": "muoHe3gLuH3J",
        "colab_type": "code",
        "colab": {
          "base_uri": "https://localhost:8080/",
          "height": 301
        },
        "outputId": "6e9650f3-a2a2-4fbc-8a16-a219cc1f3d5d"
      },
      "source": [
        "for char in 'GITAM UNIVERSITY':\n",
        "  print(char)"
      ],
      "execution_count": 22,
      "outputs": [
        {
          "output_type": "stream",
          "text": [
            "G\n",
            "I\n",
            "T\n",
            "A\n",
            "M\n",
            " \n",
            "U\n",
            "N\n",
            "I\n",
            "V\n",
            "E\n",
            "R\n",
            "S\n",
            "I\n",
            "T\n",
            "Y\n"
          ],
          "name": "stdout"
        }
      ]
    },
    {
      "cell_type": "markdown",
      "metadata": {
        "id": "lw4CjxRlvP_D",
        "colab_type": "text"
      },
      "source": [
        "python programme to display sum and AVERAGE OF GIVEN NUMBERS"
      ]
    },
    {
      "cell_type": "code",
      "metadata": {
        "id": "iQZ924AyvEYB",
        "colab_type": "code",
        "colab": {
          "base_uri": "https://localhost:8080/",
          "height": 52
        },
        "outputId": "b43482aa-003a-483a-acb4-2de49305f07d"
      },
      "source": [
        "number=[10,20,30,40]\n",
        "sum=0\n",
        "for num in number:\n",
        "  sum=sum+num\n",
        "avg=sum/len(number)\n",
        "print('sum=',sum)\n",
        "print('average=',avg)"
      ],
      "execution_count": 25,
      "outputs": [
        {
          "output_type": "stream",
          "text": [
            "sum= 100\n",
            "average= 25.0\n"
          ],
          "name": "stdout"
        }
      ]
    },
    {
      "cell_type": "code",
      "metadata": {
        "id": "pKsjA9JqwYTw",
        "colab_type": "code",
        "colab": {
          "base_uri": "https://localhost:8080/",
          "height": 52
        },
        "outputId": "5a4ea14d-9051-449b-a64b-f9da71eb8d41"
      },
      "source": [
        "number=[3,33,66,99]\n",
        "sum=0\n",
        "for num in number:\n",
        "  sum=sum+num\n",
        "avg=sum/len(number)\n",
        "print('sum=',sum)\n",
        "print('average=',avg)"
      ],
      "execution_count": 27,
      "outputs": [
        {
          "output_type": "stream",
          "text": [
            "sum= 201\n",
            "average= 50.25\n"
          ],
          "name": "stdout"
        }
      ]
    },
    {
      "cell_type": "markdown",
      "metadata": {
        "id": "lXQFv-VFwuB4",
        "colab_type": "text"
      },
      "source": [
        "python programme to check the given number is prime or not"
      ]
    },
    {
      "cell_type": "code",
      "metadata": {
        "id": "JrYeVtfQw3b3",
        "colab_type": "code",
        "colab": {
          "base_uri": "https://localhost:8080/",
          "height": 35
        },
        "outputId": "bc5bc867-4638-4238-aa09-2082dde9ea5c"
      },
      "source": [
        "def prime(n):\n",
        "  for i in range(2,n//2+1):\n",
        "    if (n%i==0):\n",
        "     return 'Not prime'\n",
        "  else:\n",
        "    return 'Prime'\n",
        "prime(33)"
      ],
      "execution_count": 31,
      "outputs": [
        {
          "output_type": "execute_result",
          "data": {
            "text/plain": [
              "'Not prime'"
            ]
          },
          "metadata": {
            "tags": []
          },
          "execution_count": 31
        }
      ]
    },
    {
      "cell_type": "markdown",
      "metadata": {
        "id": "pjqBruVoyDuk",
        "colab_type": "text"
      },
      "source": [
        "python programme to generate all prime numbers between n1 and n2"
      ]
    },
    {
      "cell_type": "code",
      "metadata": {
        "id": "srtVWBIqx89P",
        "colab_type": "code",
        "colab": {
          "base_uri": "https://localhost:8080/",
          "height": 195
        },
        "outputId": "ea8e0548-384d-405e-d2be-83449ef26da9"
      },
      "source": [
        "n1=int(input(\"Enter n1: \"))\n",
        "n2=int(input(\"Enter n2: \"))\n",
        "for num in range(n1, n2+1):\n",
        "    if num>1:\n",
        "        for i in range(2,num):\n",
        "            if num%i==0:\n",
        "                break\n",
        "        else:\n",
        "            print(num)\n",
        "\n"
      ],
      "execution_count": 33,
      "outputs": [
        {
          "output_type": "stream",
          "text": [
            "Enter n1: 1\n",
            "Enter n2: 20\n",
            "2\n",
            "3\n",
            "5\n",
            "7\n",
            "11\n",
            "13\n",
            "17\n",
            "19\n"
          ],
          "name": "stdout"
        }
      ]
    },
    {
      "cell_type": "markdown",
      "metadata": {
        "id": "VcCWYxvO0OqQ",
        "colab_type": "text"
      },
      "source": [
        "python programme to add 2 matrix"
      ]
    },
    {
      "cell_type": "code",
      "metadata": {
        "id": "k2nLx5BS0BIw",
        "colab_type": "code",
        "colab": {
          "base_uri": "https://localhost:8080/",
          "height": 70
        },
        "outputId": "8868a84a-33a8-4199-ca85-7794e46a1132"
      },
      "source": [
        "m1=[[11,22,33],\n",
        "    [44,55,66],\n",
        "    [77,88,99]]\n",
        "\n",
        "m2=[[1,2,3],\n",
        "    [4,5,6],\n",
        "    [7,8,9]]\n",
        "\n",
        "result=[[0,0,0],\n",
        "        [0,0,0],\n",
        "        [0,0,0]]\n",
        "\n",
        "for i in range(len(m1)) :\n",
        "  for j in range(len(m1[0])) :\n",
        "    result[i][j]=m1[i][j]+m2[i][j]\n",
        "\n",
        "for r in result:\n",
        "  print(r)    \n"
      ],
      "execution_count": 38,
      "outputs": [
        {
          "output_type": "stream",
          "text": [
            "[12, 24, 36]\n",
            "[48, 60, 72]\n",
            "[84, 96, 108]\n"
          ],
          "name": "stdout"
        }
      ]
    },
    {
      "cell_type": "markdown",
      "metadata": {
        "id": "45EPI3Sf3aJw",
        "colab_type": "text"
      },
      "source": [
        "python programme to subtract 2 matrix"
      ]
    },
    {
      "cell_type": "code",
      "metadata": {
        "id": "pvHWxGNp3AzD",
        "colab_type": "code",
        "colab": {
          "base_uri": "https://localhost:8080/",
          "height": 70
        },
        "outputId": "12b60667-f33e-4ae7-9f4b-64952e1ad4d2"
      },
      "source": [
        "m1=[[11,22,33],\n",
        "    [44,55,66],\n",
        "    [77,88,99]]\n",
        "\n",
        "m2=[[1,2,3],\n",
        "    [4,5,6],\n",
        "    [7,8,9]]\n",
        "\n",
        "result=[[0,0,0],\n",
        "        [0,0,0],\n",
        "        [0,0,0]]\n",
        "\n",
        "for i in range(len(m1)) :\n",
        "  for j in range(len(m1[0])) :\n",
        "    result[i][j]=m1[i][j]-m2[i][j]\n",
        "\n",
        "for r in result:\n",
        "  print(r)    \n"
      ],
      "execution_count": 39,
      "outputs": [
        {
          "output_type": "stream",
          "text": [
            "[10, 20, 30]\n",
            "[40, 50, 60]\n",
            "[70, 80, 90]\n"
          ],
          "name": "stdout"
        }
      ]
    },
    {
      "cell_type": "markdown",
      "metadata": {
        "id": "oPHovXKq3uxL",
        "colab_type": "text"
      },
      "source": [
        "python programme to multiply 2 matrix\n"
      ]
    },
    {
      "cell_type": "code",
      "metadata": {
        "id": "WpxwzyzY4ZWQ",
        "colab_type": "code",
        "colab": {
          "base_uri": "https://localhost:8080/",
          "height": 70
        },
        "outputId": "744fcbc1-a294-4a8a-b919-295aa03db786"
      },
      "source": [
        "x=[[1,2,3],\n",
        "    [4,5,6],\n",
        "    [7,8,9]]\n",
        "\n",
        "y=[[1,2,3],\n",
        "    [4,5,6],\n",
        "    [7,8,9]]\n",
        "\n",
        "result=[[0,0,0],\n",
        "        [0,0,0],\n",
        "        [0,0,0]]\n",
        "\n",
        "for i in range(len(x)) :\n",
        "  for j in range(len(y[0])) :\n",
        "    for k in range(len(y)):\n",
        "        result[i][j] += x[i][k] * y[k][j]\n",
        "\n",
        "for r in result:\n",
        "  print(r)    \n"
      ],
      "execution_count": 44,
      "outputs": [
        {
          "output_type": "stream",
          "text": [
            "[30, 36, 42]\n",
            "[66, 81, 96]\n",
            "[102, 126, 150]\n"
          ],
          "name": "stdout"
        }
      ]
    }
  ]
}