{
  "nbformat": 4,
  "nbformat_minor": 0,
  "metadata": {
    "colab": {
      "name": "python_july1.ipynb",
      "provenance": [],
      "authorship_tag": "ABX9TyOyb4vryN47atOU1IY4DMwI",
      "include_colab_link": true
    },
    "kernelspec": {
      "name": "python3",
      "display_name": "Python 3"
    }
  },
  "cells": [
    {
      "cell_type": "markdown",
      "metadata": {
        "id": "view-in-github",
        "colab_type": "text"
      },
      "source": [
        "<a href=\"https://colab.research.google.com/github/charan5045/python-workshop/blob/master/python_july1.ipynb\" target=\"_parent\"><img src=\"https://colab.research.google.com/assets/colab-badge.svg\" alt=\"Open In Colab\"/></a>"
      ]
    },
    {
      "cell_type": "markdown",
      "metadata": {
        "id": "Os83QqdD-bZX",
        "colab_type": "text"
      },
      "source": [
        "1.Write a python program to create a tuple"
      ]
    },
    {
      "cell_type": "code",
      "metadata": {
        "id": "rrIeN6cS-SCZ",
        "colab_type": "code",
        "colab": {
          "base_uri": "https://localhost:8080/",
          "height": 35
        },
        "outputId": "2e04e3ea-239a-461e-dc92-c9f5f81a4431"
      },
      "source": [
        "t1=(1,3,4,5,6,7)\n",
        "print(t1,type(t1))"
      ],
      "execution_count": 1,
      "outputs": [
        {
          "output_type": "stream",
          "text": [
            "(1, 3, 4, 5, 6, 7) <class 'tuple'>\n"
          ],
          "name": "stdout"
        }
      ]
    },
    {
      "cell_type": "markdown",
      "metadata": {
        "id": "3hLo88CN_ae-",
        "colab_type": "text"
      },
      "source": [
        "2.Write a python program to create a tuple with different datatypes"
      ]
    },
    {
      "cell_type": "code",
      "metadata": {
        "id": "65d0WA7g_kvT",
        "colab_type": "code",
        "colab": {
          "base_uri": "https://localhost:8080/",
          "height": 35
        },
        "outputId": "5a208da8-1bc7-47fa-b550-8773bf521748"
      },
      "source": [
        "t1 = (\"Charan cherry\", True,100, 1.0)\n",
        "print(t1)"
      ],
      "execution_count": 5,
      "outputs": [
        {
          "output_type": "stream",
          "text": [
            "('Charan cherry', True, 100, 1.0)\n"
          ],
          "name": "stdout"
        }
      ]
    },
    {
      "cell_type": "markdown",
      "metadata": {
        "id": "a6ntWAsL_pw0",
        "colab_type": "text"
      },
      "source": [
        "3.Write a python program to convert a tuple to a string"
      ]
    },
    {
      "cell_type": "code",
      "metadata": {
        "id": "SN4elX1S_vhV",
        "colab_type": "code",
        "colab": {
          "base_uri": "https://localhost:8080/",
          "height": 35
        },
        "outputId": "e954ad6c-171f-4eb5-9284-fe4a090d83b0"
      },
      "source": [
        "t1=('C','h','a','r','a','n')\n",
        "str=''.join(t1)\n",
        "print(str)"
      ],
      "execution_count": 6,
      "outputs": [
        {
          "output_type": "stream",
          "text": [
            "Charan\n"
          ],
          "name": "stdout"
        }
      ]
    },
    {
      "cell_type": "markdown",
      "metadata": {
        "id": "TYqIZmbfAdfV",
        "colab_type": "text"
      },
      "source": [
        "4.Write a python program to slice a tuple"
      ]
    },
    {
      "cell_type": "code",
      "metadata": {
        "id": "50S7rroxAiT_",
        "colab_type": "code",
        "colab": {
          "base_uri": "https://localhost:8080/",
          "height": 35
        },
        "outputId": "5cc4b3e2-272c-4c64-d543-edd827af09c3"
      },
      "source": [
        "t1 = (1,2,3,4,5,6,7,8,9)\n",
        "slice=t1[1]\n",
        "print(slice)"
      ],
      "execution_count": 7,
      "outputs": [
        {
          "output_type": "stream",
          "text": [
            "2\n"
          ],
          "name": "stdout"
        }
      ]
    },
    {
      "cell_type": "markdown",
      "metadata": {
        "id": "ldQCqlSlBQWT",
        "colab_type": "text"
      },
      "source": [
        "5.Write a python program to find the length of a tuple"
      ]
    },
    {
      "cell_type": "code",
      "metadata": {
        "id": "Io54ghDqBWLZ",
        "colab_type": "code",
        "colab": {
          "base_uri": "https://localhost:8080/",
          "height": 52
        },
        "outputId": "184602b2-b720-4495-9b0e-ec35a69f0bc9"
      },
      "source": [
        "t1=(\"Cherry\")\n",
        "print(len(t1))\n",
        "print(t1)"
      ],
      "execution_count": 8,
      "outputs": [
        {
          "output_type": "stream",
          "text": [
            "6\n",
            "Cherry\n"
          ],
          "name": "stdout"
        }
      ]
    },
    {
      "cell_type": "markdown",
      "metadata": {
        "id": "y_CbN9rUBiLB",
        "colab_type": "text"
      },
      "source": [
        "6.Write a python program to reverse a tuple"
      ]
    },
    {
      "cell_type": "code",
      "metadata": {
        "id": "3TLWtKmfBljB",
        "colab_type": "code",
        "colab": {
          "base_uri": "https://localhost:8080/",
          "height": 35
        },
        "outputId": "038d9e08-db73-4da2-dc3e-a7141667ee40"
      },
      "source": [
        "x=(1,2,3,4,5,6,7)\n",
        "y=reversed(x)\n",
        "print(tuple(y))"
      ],
      "execution_count": 9,
      "outputs": [
        {
          "output_type": "stream",
          "text": [
            "(7, 6, 5, 4, 3, 2, 1)\n"
          ],
          "name": "stdout"
        }
      ]
    },
    {
      "cell_type": "markdown",
      "metadata": {
        "id": "IF_F1BNMBtMq",
        "colab_type": "text"
      },
      "source": [
        "7.Write a python program to convert a list to a tuple"
      ]
    },
    {
      "cell_type": "code",
      "metadata": {
        "id": "LsnFU-V3Bw9i",
        "colab_type": "code",
        "colab": {
          "base_uri": "https://localhost:8080/",
          "height": 52
        },
        "outputId": "534c1cdb-fcbd-4430-a3bb-e4b412ffb46f"
      },
      "source": [
        "l1=[1,2,3,44,555,6]\n",
        "print(l1)\n",
        "t1=tuple(l1)\n",
        "print(t1)"
      ],
      "execution_count": 10,
      "outputs": [
        {
          "output_type": "stream",
          "text": [
            "[1, 2, 3, 44, 555, 6]\n",
            "(1, 2, 3, 44, 555, 6)\n"
          ],
          "name": "stdout"
        }
      ]
    }
  ]
}