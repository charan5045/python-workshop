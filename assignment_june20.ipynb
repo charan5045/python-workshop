{
  "nbformat": 4,
  "nbformat_minor": 0,
  "metadata": {
    "colab": {
      "name": "assignment_june20.ipynb",
      "provenance": [],
      "authorship_tag": "ABX9TyO4/3kaNQfLtt3StAf3RpuO",
      "include_colab_link": true
    },
    "kernelspec": {
      "name": "python3",
      "display_name": "Python 3"
    }
  },
  "cells": [
    {
      "cell_type": "markdown",
      "metadata": {
        "id": "view-in-github",
        "colab_type": "text"
      },
      "source": [
        "<a href=\"https://colab.research.google.com/github/charan5045/python-workshop/blob/master/assignment_june20.ipynb\" target=\"_parent\"><img src=\"https://colab.research.google.com/assets/colab-badge.svg\" alt=\"Open In Colab\"/></a>"
      ]
    },
    {
      "cell_type": "markdown",
      "metadata": {
        "id": "JuaXXV9IMvnS",
        "colab_type": "text"
      },
      "source": [
        "1.\tTake two inputs from user and check whether they are equal or not."
      ]
    },
    {
      "cell_type": "code",
      "metadata": {
        "id": "JHdGJDhQMYuC",
        "colab_type": "code",
        "colab": {}
      },
      "source": [
        "n1=int(input())\n",
        "n2=int(input())\n",
        "if n1==n2 :\n",
        "  print('numbers are equal')\n",
        "else:\n",
        "  print('numbers are not equal')"
      ],
      "execution_count": null,
      "outputs": []
    },
    {
      "cell_type": "markdown",
      "metadata": {
        "id": "WYt38dmpNWpZ",
        "colab_type": "text"
      },
      "source": [
        "2.\tTake 3 inputs from user and check :\n",
        "           all are equal\n",
        "           any of two are equal\n",
        "           ( use and or )\n"
      ]
    },
    {
      "cell_type": "code",
      "metadata": {
        "id": "oNW4WwW7NVl6",
        "colab_type": "code",
        "colab": {}
      },
      "source": [
        "n1=input()\n",
        "n2=input()\n",
        "n3=input()\n",
        "if n1==n2==n3:\n",
        "  print('all are equal')\n",
        "elif n1==n2 or n2==n3 or n1==n3:\n",
        "  print('any of two are equal')\n",
        "else:\n",
        "  print('none of them are equal')"
      ],
      "execution_count": null,
      "outputs": []
    },
    {
      "cell_type": "markdown",
      "metadata": {
        "id": "d6zuoX7TNdYZ",
        "colab_type": "text"
      },
      "source": [
        "3.\tTake two number and check whether the sum is greater than 5, less than 5 or equal to 5."
      ]
    },
    {
      "cell_type": "code",
      "metadata": {
        "id": "RDBWU6wDNktF",
        "colab_type": "code",
        "colab": {}
      },
      "source": [
        "n1=int(input())\n",
        "n2=int(input())\n",
        "if n1+n2>5 :\n",
        "  print('their sum is greater than 5')\n",
        "elif n1+n2<5 :\n",
        "  print('their sum is less than 5')\n",
        "else :\n",
        "  print('they are equal') "
      ],
      "execution_count": null,
      "outputs": []
    },
    {
      "cell_type": "markdown",
      "metadata": {
        "id": "lN07EuYSNnAc",
        "colab_type": "text"
      },
      "source": [
        "4.\tSuppose passing marks of a subject is 35. Take input of marks from user and check whether it is greater than passing marks or not."
      ]
    },
    {
      "cell_type": "code",
      "metadata": {
        "id": "esBkyJg8N4yU",
        "colab_type": "code",
        "colab": {}
      },
      "source": [
        "n=int(input('marks'))\n",
        "if n>35 :\n",
        "  print('greater than pass marks')\n",
        "elif n<35 :\n",
        "  print('less than pass marks')\n",
        "else :\n",
        "  print('equal marks')"
      ],
      "execution_count": null,
      "outputs": []
    },
    {
      "cell_type": "markdown",
      "metadata": {
        "id": "rjtwlnRbN5fD",
        "colab_type": "text"
      },
      "source": [
        "5.\tWrite a Python function to find the Max of three numbers"
      ]
    },
    {
      "cell_type": "code",
      "metadata": {
        "id": "S_Izr_utN-9w",
        "colab_type": "code",
        "colab": {}
      },
      "source": [
        "n1=int(input())\n",
        "n2=int(input())\n",
        "n3=int(input())\n",
        "if n1>n2 and n1>n3:\n",
        "  print('n1 is greater', n1)\n",
        "elif n2>n3:\n",
        "  print('n2 is greater', n2)\n",
        "else :\n",
        "  print('n3 is greater',n3)"
      ],
      "execution_count": null,
      "outputs": []
    }
  ]
}