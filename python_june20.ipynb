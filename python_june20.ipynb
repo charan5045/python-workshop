{
  "nbformat": 4,
  "nbformat_minor": 0,
  "metadata": {
    "colab": {
      "name": "python_june20.ipynb",
      "provenance": [],
      "authorship_tag": "ABX9TyOYaEtlSDOQ4XY+d5rf6x30",
      "include_colab_link": true
    },
    "kernelspec": {
      "name": "python3",
      "display_name": "Python 3"
    }
  },
  "cells": [
    {
      "cell_type": "markdown",
      "metadata": {
        "id": "view-in-github",
        "colab_type": "text"
      },
      "source": [
        "<a href=\"https://colab.research.google.com/github/charan5045/python-workshop/blob/master/python_june20.ipynb\" target=\"_parent\"><img src=\"https://colab.research.google.com/assets/colab-badge.svg\" alt=\"Open In Colab\"/></a>"
      ]
    },
    {
      "cell_type": "markdown",
      "metadata": {
        "id": "-fC3pb447cmE",
        "colab_type": "text"
      },
      "source": [
        "Comparison operation"
      ]
    },
    {
      "cell_type": "code",
      "metadata": {
        "id": "6Dsd1eQy7sln",
        "colab_type": "code",
        "colab": {
          "base_uri": "https://localhost:8080/",
          "height": 33
        },
        "outputId": "aa648853-556f-4687-a519-ab380d233257"
      },
      "source": [
        "x=3\n",
        "y=5\n",
        "x>y"
      ],
      "execution_count": 1,
      "outputs": [
        {
          "output_type": "execute_result",
          "data": {
            "text/plain": [
              "False"
            ]
          },
          "metadata": {
            "tags": []
          },
          "execution_count": 1
        }
      ]
    },
    {
      "cell_type": "code",
      "metadata": {
        "id": "aAPGThBl73aP",
        "colab_type": "code",
        "colab": {
          "base_uri": "https://localhost:8080/",
          "height": 33
        },
        "outputId": "d914a4d0-1db3-4adf-be34-fd69fbe6622f"
      },
      "source": [
        "x=3\n",
        "y=5\n",
        "x<y"
      ],
      "execution_count": 2,
      "outputs": [
        {
          "output_type": "execute_result",
          "data": {
            "text/plain": [
              "True"
            ]
          },
          "metadata": {
            "tags": []
          },
          "execution_count": 2
        }
      ]
    },
    {
      "cell_type": "code",
      "metadata": {
        "id": "EPvgqY9e7-XH",
        "colab_type": "code",
        "colab": {
          "base_uri": "https://localhost:8080/",
          "height": 33
        },
        "outputId": "e29bf98e-1b2f-4475-d6df-13eaf398ba1b"
      },
      "source": [
        "x=3\n",
        "y=5\n",
        "x==y"
      ],
      "execution_count": 7,
      "outputs": [
        {
          "output_type": "execute_result",
          "data": {
            "text/plain": [
              "False"
            ]
          },
          "metadata": {
            "tags": []
          },
          "execution_count": 7
        }
      ]
    },
    {
      "cell_type": "markdown",
      "metadata": {
        "id": "8CQEXtlA8b1I",
        "colab_type": "text"
      },
      "source": [
        "Logical operator\n"
      ]
    },
    {
      "cell_type": "code",
      "metadata": {
        "id": "w1LK3_Os8hCS",
        "colab_type": "code",
        "colab": {
          "base_uri": "https://localhost:8080/",
          "height": 33
        },
        "outputId": "a705a8ef-d414-4141-e600-78df33b8da03"
      },
      "source": [
        "x=5\n",
        "y=2\n",
        "z=7\n",
        "x>y and x<z"
      ],
      "execution_count": 15,
      "outputs": [
        {
          "output_type": "execute_result",
          "data": {
            "text/plain": [
              "True"
            ]
          },
          "metadata": {
            "tags": []
          },
          "execution_count": 15
        }
      ]
    },
    {
      "cell_type": "code",
      "metadata": {
        "id": "IPajmpIP-Ku6",
        "colab_type": "code",
        "colab": {
          "base_uri": "https://localhost:8080/",
          "height": 33
        },
        "outputId": "39f8a925-6247-4cc5-8918-cd8b70eb8e99"
      },
      "source": [
        "x=5\n",
        "y=10\n",
        "z=7\n",
        "x>y or x<z"
      ],
      "execution_count": 16,
      "outputs": [
        {
          "output_type": "execute_result",
          "data": {
            "text/plain": [
              "True"
            ]
          },
          "metadata": {
            "tags": []
          },
          "execution_count": 16
        }
      ]
    },
    {
      "cell_type": "code",
      "metadata": {
        "id": "bA-9IlfF-P6K",
        "colab_type": "code",
        "colab": {
          "base_uri": "https://localhost:8080/",
          "height": 33
        },
        "outputId": "d6f863ce-ae6b-434e-9056-80f9a988b92d"
      },
      "source": [
        "x=5\n",
        "y=2\n",
        "not x>y"
      ],
      "execution_count": 17,
      "outputs": [
        {
          "output_type": "execute_result",
          "data": {
            "text/plain": [
              "False"
            ]
          },
          "metadata": {
            "tags": []
          },
          "execution_count": 17
        }
      ]
    },
    {
      "cell_type": "markdown",
      "metadata": {
        "id": "Hn5KUZf9-u81",
        "colab_type": "text"
      },
      "source": [
        "Conditional execution"
      ]
    },
    {
      "cell_type": "code",
      "metadata": {
        "id": "_PUc23rQAfuI",
        "colab_type": "code",
        "colab": {
          "base_uri": "https://localhost:8080/",
          "height": 33
        },
        "outputId": "8aa6c300-8067-482b-a1f0-7b8087618acc"
      },
      "source": [
        "x=10\n",
        "if x<100:\n",
        "  x=4\n",
        "  y=5\n",
        "else:\n",
        "  print('this is false')   \n",
        "  \n",
        "print(x,y)"
      ],
      "execution_count": 23,
      "outputs": [
        {
          "output_type": "stream",
          "text": [
            "4 5\n"
          ],
          "name": "stdout"
        }
      ]
    },
    {
      "cell_type": "code",
      "metadata": {
        "id": "AeZ2O2e5CmBI",
        "colab_type": "code",
        "colab": {
          "base_uri": "https://localhost:8080/",
          "height": 50
        },
        "outputId": "b5007920-36a9-43ab-f3bb-1ad5d73a8453"
      },
      "source": [
        "age=int(input(\"Enter Youre Age\"))\n",
        "if age<=18:\n",
        "  print(\"Not Eligible for Voting\")\n",
        "else:\n",
        "    print(\"Eligible for Voting\")"
      ],
      "execution_count": 25,
      "outputs": [
        {
          "output_type": "stream",
          "text": [
            "Enter Youre Age19\n",
            "Eligible for Voting\n"
          ],
          "name": "stdout"
        }
      ]
    },
    {
      "cell_type": "code",
      "metadata": {
        "id": "yWLXopXCD6KV",
        "colab_type": "code",
        "colab": {
          "base_uri": "https://localhost:8080/",
          "height": 33
        },
        "outputId": "43e1fc11-957a-419d-f949-66985457fe8c"
      },
      "source": [
        "x=5\n",
        "if x==2:\n",
        "  print('x is not 5')\n",
        "elif x==5:\n",
        "  print('x is first 5')\n",
        "elif x==5:\n",
        "  print('x is second 5')\n",
        "else:\n",
        "  print('x is not in the list')"
      ],
      "execution_count": 33,
      "outputs": [
        {
          "output_type": "stream",
          "text": [
            "x is first 5\n"
          ],
          "name": "stdout"
        }
      ]
    },
    {
      "cell_type": "code",
      "metadata": {
        "id": "_XGvO3qEGpty",
        "colab_type": "code",
        "colab": {
          "base_uri": "https://localhost:8080/",
          "height": 50
        },
        "outputId": "9863e2af-a69a-4fdd-e3c1-7145d03484b3"
      },
      "source": [
        "day= int(input(\"enter a day in numbers: \"))\n",
        "if day==1:\n",
        "  print(\"Sunday\")\n",
        "elif day==2:\n",
        "   print(\"Monday\") \n",
        "elif day==3:\n",
        "   print(\"Tuesday\") \n",
        "elif day==4:\n",
        "   print(\"Wednesday\")\n",
        "elif day==5:\n",
        "   print(\"Thursday\") \n",
        "elif day==6:\n",
        "   print(\"Friday\") \n",
        "elif day==7:\n",
        "  print(\"Saturday\")\n",
        "else:\n",
        "  print(\"not a valid date\")    \n",
        "\n"
      ],
      "execution_count": 40,
      "outputs": [
        {
          "output_type": "stream",
          "text": [
            "enter a day in numbers: 5\n",
            "Thursday\n"
          ],
          "name": "stdout"
        }
      ]
    },
    {
      "cell_type": "code",
      "metadata": {
        "id": "u4LldS0SHOF1",
        "colab_type": "code",
        "colab": {
          "base_uri": "https://localhost:8080/",
          "height": 33
        },
        "outputId": "c85338cd-1d08-421b-c37e-4cb32dfdc419"
      },
      "source": [
        "a=10\n",
        "b=20\n",
        "if a==b:\n",
        "  print('a and b are equal')\n",
        "else:\n",
        "  if a>b:\n",
        "    print('a is greater than b')\n",
        "  else:\n",
        "    print('b is greater than a')"
      ],
      "execution_count": 44,
      "outputs": [
        {
          "output_type": "stream",
          "text": [
            "b is greater than a\n"
          ],
          "name": "stdout"
        }
      ]
    },
    {
      "cell_type": "code",
      "metadata": {
        "id": "eq1ChCpuJ930",
        "colab_type": "code",
        "colab": {
          "base_uri": "https://localhost:8080/",
          "height": 50
        },
        "outputId": "648b1c05-bdc0-4e54-876e-7cadebc85fdb"
      },
      "source": [
        "x= int(input(\"enter a number: \"))\n",
        "if x==0:\n",
        "  print(\"x is zero\")\n",
        "else:\n",
        "  if x%2==0:\n",
        "    print(\"even\")\n",
        "  else:\n",
        "    print(\"odd\")   \n"
      ],
      "execution_count": 45,
      "outputs": [
        {
          "output_type": "stream",
          "text": [
            "enter a number: 33\n",
            "odd\n"
          ],
          "name": "stdout"
        }
      ]
    },
    {
      "cell_type": "code",
      "metadata": {
        "id": "ivDCUxW9LOTP",
        "colab_type": "code",
        "colab": {
          "base_uri": "https://localhost:8080/",
          "height": 50
        },
        "outputId": "ccbc1dda-0425-4048-ecfe-99b8060ba0db"
      },
      "source": [
        "n= int(input('enter n'))\n",
        "if n==0:\n",
        "  print('number is zero')\n",
        "else:\n",
        "  if n>0:\n",
        "    print('n is positive')\n",
        "  else:\n",
        "    print('n is negative')"
      ],
      "execution_count": 48,
      "outputs": [
        {
          "output_type": "stream",
          "text": [
            "enter n33\n",
            "n is positive\n"
          ],
          "name": "stdout"
        }
      ]
    },
    {
      "cell_type": "code",
      "metadata": {
        "id": "o37BgKYrMLyS",
        "colab_type": "code",
        "colab": {}
      },
      "source": [
        ""
      ],
      "execution_count": null,
      "outputs": []
    }
  ]
}