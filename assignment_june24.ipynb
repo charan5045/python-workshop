{
  "nbformat": 4,
  "nbformat_minor": 0,
  "metadata": {
    "colab": {
      "name": "assignment_june24.ipynb",
      "provenance": [],
      "authorship_tag": "ABX9TyOH1ZYCaSZ2smH39pnkRXHY",
      "include_colab_link": true
    },
    "kernelspec": {
      "name": "python3",
      "display_name": "Python 3"
    }
  },
  "cells": [
    {
      "cell_type": "markdown",
      "metadata": {
        "id": "view-in-github",
        "colab_type": "text"
      },
      "source": [
        "<a href=\"https://colab.research.google.com/github/charan5045/python-workshop/blob/master/assignment_june24.ipynb\" target=\"_parent\"><img src=\"https://colab.research.google.com/assets/colab-badge.svg\" alt=\"Open In Colab\"/></a>"
      ]
    },
    {
      "cell_type": "markdown",
      "metadata": {
        "id": "jEksDrtznQkL",
        "colab_type": "text"
      },
      "source": [
        "Enter a number to display it's multiplication table."
      ]
    },
    {
      "cell_type": "code",
      "metadata": {
        "id": "j7mh3WbXnG9m",
        "colab_type": "code",
        "colab": {
          "base_uri": "https://localhost:8080/",
          "height": 212
        },
        "outputId": "7da7f7c5-1649-41a0-db91-b0f9ca73c193"
      },
      "source": [
        "n=int(input(\"the table of number\")) \n",
        "for i in range(1,11):\n",
        " print(n,'X',i, '=', n*i)"
      ],
      "execution_count": 1,
      "outputs": [
        {
          "output_type": "stream",
          "text": [
            "the table of number5\n",
            "5 X 1 = 5\n",
            "5 X 2 = 10\n",
            "5 X 3 = 15\n",
            "5 X 4 = 20\n",
            "5 X 5 = 25\n",
            "5 X 6 = 30\n",
            "5 X 7 = 35\n",
            "5 X 8 = 40\n",
            "5 X 9 = 45\n",
            "5 X 10 = 50\n"
          ],
          "name": "stdout"
        }
      ]
    },
    {
      "cell_type": "markdown",
      "metadata": {
        "id": "J--HgG25oQ2D",
        "colab_type": "text"
      },
      "source": [
        "Convert binary to decimal."
      ]
    },
    {
      "cell_type": "code",
      "metadata": {
        "id": "3ULsUdFwoRZK",
        "colab_type": "code",
        "colab": {
          "base_uri": "https://localhost:8080/",
          "height": 52
        },
        "outputId": "7ec3679b-f961-444f-9847-9601857e254b"
      },
      "source": [
        "binary=input (\"the binary value is \") \n",
        "decimal=int(binary,2) \n",
        "print(\" The decimal of {p} is{q}\".format(p=binary, q=decimal))"
      ],
      "execution_count": 2,
      "outputs": [
        {
          "output_type": "stream",
          "text": [
            "the binary value is 10010\n",
            " The decimal of 10010 is18\n"
          ],
          "name": "stdout"
        }
      ]
    },
    {
      "cell_type": "markdown",
      "metadata": {
        "id": "PztoYyCsoR7W",
        "colab_type": "text"
      },
      "source": [
        "Generate first n number of fibonacci. Take n from user."
      ]
    },
    {
      "cell_type": "code",
      "metadata": {
        "id": "PczdTrIZoSe4",
        "colab_type": "code",
        "colab": {
          "base_uri": "https://localhost:8080/",
          "height": 364
        },
        "outputId": "18164757-0be9-4d7d-a9a4-a7ad60a1f8e7"
      },
      "source": [
        "def fibonacci(n):\n",
        " return first\n",
        "fibonacci(n) \n",
        "n=int(input()) \n",
        "first=0\n",
        "second=1\n",
        "i=1\n",
        "while(i<=n):\n",
        "  next=first+second\n",
        "  first=second\n",
        "  second=next\n",
        "  i+=1\n",
        "print(\"the number is\",first)"
      ],
      "execution_count": 11,
      "outputs": [
        {
          "output_type": "error",
          "ename": "NameError",
          "evalue": "ignored",
          "traceback": [
            "\u001b[0;31m---------------------------------------------------------------------------\u001b[0m",
            "\u001b[0;31mNameError\u001b[0m                                 Traceback (most recent call last)",
            "\u001b[0;32m<ipython-input-11-d5fd0a9fed10>\u001b[0m in \u001b[0;36m<module>\u001b[0;34m()\u001b[0m\n\u001b[1;32m      1\u001b[0m \u001b[0;32mdef\u001b[0m \u001b[0mfibonacci\u001b[0m\u001b[0;34m(\u001b[0m\u001b[0mn\u001b[0m\u001b[0;34m)\u001b[0m\u001b[0;34m:\u001b[0m\u001b[0;34m\u001b[0m\u001b[0;34m\u001b[0m\u001b[0m\n\u001b[1;32m      2\u001b[0m  \u001b[0;32mreturn\u001b[0m \u001b[0mfirst\u001b[0m\u001b[0;34m\u001b[0m\u001b[0;34m\u001b[0m\u001b[0m\n\u001b[0;32m----> 3\u001b[0;31m \u001b[0mfibonacci\u001b[0m\u001b[0;34m(\u001b[0m\u001b[0mn\u001b[0m\u001b[0;34m)\u001b[0m\u001b[0;34m\u001b[0m\u001b[0;34m\u001b[0m\u001b[0m\n\u001b[0m\u001b[1;32m      4\u001b[0m \u001b[0mn\u001b[0m\u001b[0;34m=\u001b[0m\u001b[0mint\u001b[0m\u001b[0;34m(\u001b[0m\u001b[0minput\u001b[0m\u001b[0;34m(\u001b[0m\u001b[0;34m)\u001b[0m\u001b[0;34m)\u001b[0m\u001b[0;34m\u001b[0m\u001b[0;34m\u001b[0m\u001b[0m\n\u001b[1;32m      5\u001b[0m \u001b[0mfirst\u001b[0m\u001b[0;34m=\u001b[0m\u001b[0;36m0\u001b[0m\u001b[0;34m\u001b[0m\u001b[0;34m\u001b[0m\u001b[0m\n",
            "\u001b[0;32m<ipython-input-11-d5fd0a9fed10>\u001b[0m in \u001b[0;36mfibonacci\u001b[0;34m(n)\u001b[0m\n\u001b[1;32m      1\u001b[0m \u001b[0;32mdef\u001b[0m \u001b[0mfibonacci\u001b[0m\u001b[0;34m(\u001b[0m\u001b[0mn\u001b[0m\u001b[0;34m)\u001b[0m\u001b[0;34m:\u001b[0m\u001b[0;34m\u001b[0m\u001b[0;34m\u001b[0m\u001b[0m\n\u001b[0;32m----> 2\u001b[0;31m  \u001b[0;32mreturn\u001b[0m \u001b[0mfirst\u001b[0m\u001b[0;34m\u001b[0m\u001b[0;34m\u001b[0m\u001b[0m\n\u001b[0m\u001b[1;32m      3\u001b[0m \u001b[0mfibonacci\u001b[0m\u001b[0;34m(\u001b[0m\u001b[0mn\u001b[0m\u001b[0;34m)\u001b[0m\u001b[0;34m\u001b[0m\u001b[0;34m\u001b[0m\u001b[0m\n\u001b[1;32m      4\u001b[0m \u001b[0mn\u001b[0m\u001b[0;34m=\u001b[0m\u001b[0mint\u001b[0m\u001b[0;34m(\u001b[0m\u001b[0minput\u001b[0m\u001b[0;34m(\u001b[0m\u001b[0;34m)\u001b[0m\u001b[0;34m)\u001b[0m\u001b[0;34m\u001b[0m\u001b[0;34m\u001b[0m\u001b[0m\n\u001b[1;32m      5\u001b[0m \u001b[0mfirst\u001b[0m\u001b[0;34m=\u001b[0m\u001b[0;36m0\u001b[0m\u001b[0;34m\u001b[0m\u001b[0;34m\u001b[0m\u001b[0m\n",
            "\u001b[0;31mNameError\u001b[0m: name 'first' is not defined"
          ]
        }
      ]
    },
    {
      "cell_type": "markdown",
      "metadata": {
        "id": "ra9SLaTlpyCF",
        "colab_type": "text"
      },
      "source": [
        "Write a program to find gcd or hcf of two numbers."
      ]
    },
    {
      "cell_type": "code",
      "metadata": {
        "id": "HbeDyxIApzFe",
        "colab_type": "code",
        "colab": {
          "base_uri": "https://localhost:8080/",
          "height": 35
        },
        "outputId": "333d5cf8-3801-492e-8dec-000d21ab6a60"
      },
      "source": [
        "def gcd(a, b) :\n",
        " while(a!=b) :\n",
        "  if a>b:\n",
        "   a=a-b\n",
        "   if(a%b==0 and b%a==0) :\n",
        "    return a\n",
        "  else:\n",
        "     b=b-a\n",
        "     if(a%b==0 and b%a==0) :\n",
        "      return b\n",
        "  \n",
        "gcd(20, 15)"
      ],
      "execution_count": 6,
      "outputs": [
        {
          "output_type": "execute_result",
          "data": {
            "text/plain": [
              "5"
            ]
          },
          "metadata": {
            "tags": []
          },
          "execution_count": 6
        }
      ]
    },
    {
      "cell_type": "markdown",
      "metadata": {
        "id": "8m34XBAbp_Xq",
        "colab_type": "text"
      },
      "source": [
        "Write a program that accepts a word from user and reverse it."
      ]
    },
    {
      "cell_type": "code",
      "metadata": {
        "id": "QMg6LEJ4qAmI",
        "colab_type": "code",
        "colab": {}
      },
      "source": [
        "n1=int(input ())"
      ],
      "execution_count": null,
      "outputs": []
    },
    {
      "cell_type": "code",
      "metadata": {
        "id": "P_lXL1wPqHgJ",
        "colab_type": "code",
        "colab": {
          "base_uri": "https://localhost:8080/",
          "height": 52
        },
        "outputId": "921c13d8-5a67-4d84-a684-7007b3b4d698"
      },
      "source": [
        "word=input(\"word is \")\n",
        "revword=word[-1::-1]\n",
        "print(\"the reverse word is\", revword) "
      ],
      "execution_count": 7,
      "outputs": [
        {
          "output_type": "stream",
          "text": [
            "word is cherry\n",
            "the reverse word is yrrehc\n"
          ],
          "name": "stdout"
        }
      ]
    },
    {
      "cell_type": "markdown",
      "metadata": {
        "id": "JJyAx0ZkqT2E",
        "colab_type": "text"
      },
      "source": [
        "Python program to print the numi from 0 to 6 except 3 and 6."
      ]
    },
    {
      "cell_type": "code",
      "metadata": {
        "id": "1UAGDcYPqXA9",
        "colab_type": "code",
        "colab": {
          "base_uri": "https://localhost:8080/",
          "height": 35
        },
        "outputId": "e8fd6ec5-d737-44d8-b1a8-fcb55fc3fba2"
      },
      "source": [
        "for i in range(6):\n",
        "  if(i==3 or i==6):\n",
        "   continue\n",
        "  print(i,end='')"
      ],
      "execution_count": 8,
      "outputs": [
        {
          "output_type": "stream",
          "text": [
            "01245"
          ],
          "name": "stdout"
        }
      ]
    },
    {
      "cell_type": "markdown",
      "metadata": {
        "id": "p71Pod3qqbWs",
        "colab_type": "text"
      },
      "source": [
        "Write a python program to count the number of even and odd numbers from a series of numbers."
      ]
    },
    {
      "cell_type": "code",
      "metadata": {
        "id": "AqpVydE1qiiW",
        "colab_type": "code",
        "colab": {
          "base_uri": "https://localhost:8080/",
          "height": 906
        },
        "outputId": "1764ed77-b63b-4b57-8b7c-e74999514238"
      },
      "source": [
        "for i in range(1,50, 2) :\n",
        "  print(\"the odd numbers are:\",i)\n",
        "for i in range(0,50,2):\n",
        "  print(\"the even numbers are\", i)"
      ],
      "execution_count": 9,
      "outputs": [
        {
          "output_type": "stream",
          "text": [
            "the odd numbers are: 1\n",
            "the odd numbers are: 3\n",
            "the odd numbers are: 5\n",
            "the odd numbers are: 7\n",
            "the odd numbers are: 9\n",
            "the odd numbers are: 11\n",
            "the odd numbers are: 13\n",
            "the odd numbers are: 15\n",
            "the odd numbers are: 17\n",
            "the odd numbers are: 19\n",
            "the odd numbers are: 21\n",
            "the odd numbers are: 23\n",
            "the odd numbers are: 25\n",
            "the odd numbers are: 27\n",
            "the odd numbers are: 29\n",
            "the odd numbers are: 31\n",
            "the odd numbers are: 33\n",
            "the odd numbers are: 35\n",
            "the odd numbers are: 37\n",
            "the odd numbers are: 39\n",
            "the odd numbers are: 41\n",
            "the odd numbers are: 43\n",
            "the odd numbers are: 45\n",
            "the odd numbers are: 47\n",
            "the odd numbers are: 49\n",
            "the even numbers are 0\n",
            "the even numbers are 2\n",
            "the even numbers are 4\n",
            "the even numbers are 6\n",
            "the even numbers are 8\n",
            "the even numbers are 10\n",
            "the even numbers are 12\n",
            "the even numbers are 14\n",
            "the even numbers are 16\n",
            "the even numbers are 18\n",
            "the even numbers are 20\n",
            "the even numbers are 22\n",
            "the even numbers are 24\n",
            "the even numbers are 26\n",
            "the even numbers are 28\n",
            "the even numbers are 30\n",
            "the even numbers are 32\n",
            "the even numbers are 34\n",
            "the even numbers are 36\n",
            "the even numbers are 38\n",
            "the even numbers are 40\n",
            "the even numbers are 42\n",
            "the even numbers are 44\n",
            "the even numbers are 46\n",
            "the even numbers are 48\n"
          ],
          "name": "stdout"
        }
      ]
    },
    {
      "cell_type": "markdown",
      "metadata": {
        "id": "E2YD6mihqton",
        "colab_type": "text"
      },
      "source": [
        "Take 10 integers from keyboard using loop and print their average value on the screen.print the pattern."
      ]
    },
    {
      "cell_type": "code",
      "metadata": {
        "id": "TEMqjvR8qyXV",
        "colab_type": "code",
        "colab": {
          "base_uri": "https://localhost:8080/",
          "height": 35
        },
        "outputId": "43d443ea-88b6-489f-d549-58296b55bc8e"
      },
      "source": [
        "n1=[25, 65,44,10,4,6,8,9,3,1]\n",
        "sum=0\n",
        "for n in n1:\n",
        "  sum=sum+n\n",
        "avg=sum/len(n1) \n",
        "print(\"average is\", avg)"
      ],
      "execution_count": 10,
      "outputs": [
        {
          "output_type": "stream",
          "text": [
            "average is 17.5\n"
          ],
          "name": "stdout"
        }
      ]
    }
  ]
}