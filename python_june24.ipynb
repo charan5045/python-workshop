{
  "nbformat": 4,
  "nbformat_minor": 0,
  "metadata": {
    "colab": {
      "name": "python_june24.ipynb",
      "provenance": [],
      "authorship_tag": "ABX9TyMeud+PHVAISCljRRZvOEd/",
      "include_colab_link": true
    },
    "kernelspec": {
      "name": "python3",
      "display_name": "Python 3"
    }
  },
  "cells": [
    {
      "cell_type": "markdown",
      "metadata": {
        "id": "view-in-github",
        "colab_type": "text"
      },
      "source": [
        "<a href=\"https://colab.research.google.com/github/charan5045/python-workshop/blob/master/python_june24.ipynb\" target=\"_parent\"><img src=\"https://colab.research.google.com/assets/colab-badge.svg\" alt=\"Open In Colab\"/></a>"
      ]
    },
    {
      "cell_type": "markdown",
      "metadata": {
        "id": "hcueP00pgYq9",
        "colab_type": "text"
      },
      "source": [
        "Looping statements:while ,for"
      ]
    },
    {
      "cell_type": "markdown",
      "metadata": {
        "id": "2Y2gWf8thDwi",
        "colab_type": "text"
      },
      "source": [
        "syntax :--(while)\n",
        "\n",
        "while conditon :\n",
        "  \n",
        "   body of loop\n",
        "\n",
        "   loop index increment\n",
        "\n",
        "else: (optional)\n",
        "\n",
        "statement"
      ]
    },
    {
      "cell_type": "code",
      "metadata": {
        "id": "xqHxFlL0c3PL",
        "colab_type": "code",
        "colab": {
          "base_uri": "https://localhost:8080/",
          "height": 88
        },
        "outputId": "19216599-9007-4760-9252-406a8c86e0e4"
      },
      "source": [
        "counter=0\n",
        "while counter<3 :\n",
        "  print('inside while loop')\n",
        "  counter=counter+1\n",
        "else :\n",
        "  print('inside the else')"
      ],
      "execution_count": 1,
      "outputs": [
        {
          "output_type": "stream",
          "text": [
            "inside while loop\n",
            "inside while loop\n",
            "inside while loop\n",
            "inside the else\n"
          ],
          "name": "stdout"
        }
      ]
    },
    {
      "cell_type": "code",
      "metadata": {
        "id": "leyophwai8EX",
        "colab_type": "code",
        "colab": {
          "base_uri": "https://localhost:8080/",
          "height": 212
        },
        "outputId": "0a07debc-5a20-461a-ffde-c248040fc1fa"
      },
      "source": [
        "n=0\n",
        "while n<10 :\n",
        "  print(n)\n",
        "  n=n+1\n",
        "print('outside the while') "
      ],
      "execution_count": 6,
      "outputs": [
        {
          "output_type": "stream",
          "text": [
            "0\n",
            "1\n",
            "2\n",
            "3\n",
            "4\n",
            "5\n",
            "6\n",
            "7\n",
            "8\n",
            "9\n",
            "outside the while\n"
          ],
          "name": "stdout"
        }
      ]
    },
    {
      "cell_type": "markdown",
      "metadata": {
        "id": "gHZs5fZujxtP",
        "colab_type": "text"
      },
      "source": [
        "python programme to check given number is palindrome or not"
      ]
    },
    {
      "cell_type": "code",
      "metadata": {
        "id": "epv1bOGDjwLN",
        "colab_type": "code",
        "colab": {
          "base_uri": "https://localhost:8080/",
          "height": 52
        },
        "outputId": "ffda08c9-faaf-4ecc-ad0c-5f05210f0fea"
      },
      "source": [
        "n=int(input('enter a number to check whether its a palindrome'))\n",
        "temp=n\n",
        "rev=0\n",
        "while (n>0) :\n",
        "  digit=n%10\n",
        "  rev=rev*10+digit\n",
        "  n=n//10\n",
        "\n",
        "if (temp==rev) :\n",
        "  print('the given number is palindrome')\n",
        "else :\n",
        "  print('the given number is not palindrome')"
      ],
      "execution_count": 9,
      "outputs": [
        {
          "output_type": "stream",
          "text": [
            "enter a number to check whether its a palindrome339933\n",
            "the given number is palindrome\n"
          ],
          "name": "stdout"
        }
      ]
    },
    {
      "cell_type": "markdown",
      "metadata": {
        "id": "hF2ljnIZoZ2I",
        "colab_type": "text"
      },
      "source": [
        "python programme to reverse a number"
      ]
    },
    {
      "cell_type": "code",
      "metadata": {
        "id": "v051y8SXojnD",
        "colab_type": "code",
        "colab": {
          "base_uri": "https://localhost:8080/",
          "height": 52
        },
        "outputId": "2cabb5a6-8324-432b-db0e-fe909bed471f"
      },
      "source": [
        "num=int(input(\"Enter a number: \"))\n",
        "rev=0\n",
        "while num!=0:\n",
        "    digit=num%10\n",
        "    rev=rev*10+digit\n",
        "    num=num//10\n",
        "print(\"Reverse the given number is:\",rev)\n"
      ],
      "execution_count": 11,
      "outputs": [
        {
          "output_type": "stream",
          "text": [
            "Enter a number: 45\n",
            "Reverse the given number is: 54\n"
          ],
          "name": "stdout"
        }
      ]
    },
    {
      "cell_type": "markdown",
      "metadata": {
        "id": "_cfuIRxEpPel",
        "colab_type": "text"
      },
      "source": [
        "python programme to find thedivisor of a number"
      ]
    },
    {
      "cell_type": "code",
      "metadata": {
        "id": "OO8wNg44phou",
        "colab_type": "code",
        "colab": {
          "base_uri": "https://localhost:8080/",
          "height": 88
        },
        "outputId": "4a14bb3e-90b1-46d4-a43a-569b1f171e96"
      },
      "source": [
        "x=int(input('enter a number to find the divisor of it'))\n",
        "i=2\n",
        "while(i<=x//2) :\n",
        "  if x%i==0 :\n",
        "    print(i)\n",
        "  i=i+1\n",
        "else :\n",
        "  print('are the divisor of the given number')"
      ],
      "execution_count": 14,
      "outputs": [
        {
          "output_type": "stream",
          "text": [
            "enter a number to find the divisor of it33\n",
            "3\n",
            "11\n",
            "are the divisor of the given number\n"
          ],
          "name": "stdout"
        }
      ]
    },
    {
      "cell_type": "markdown",
      "metadata": {
        "id": "WvBlvlySr2ye",
        "colab_type": "text"
      },
      "source": [
        "syntax :-- loop\n",
        "\n",
        "for value in sequence :\n",
        "    \n",
        "    body of loop\n",
        "\n",
        "else :\n",
        "\n",
        "     statements"
      ]
    },
    {
      "cell_type": "code",
      "metadata": {
        "id": "W_mXqsyRsOAO",
        "colab_type": "code",
        "colab": {
          "base_uri": "https://localhost:8080/",
          "height": 88
        },
        "outputId": "41b36e34-dfa8-4e6c-9b7a-5a56f2853073"
      },
      "source": [
        "friends=['sathish','phani','ratan']\n",
        "for friend in friends :\n",
        "  print('happy new year :',friend)\n",
        "print('done')"
      ],
      "execution_count": 17,
      "outputs": [
        {
          "output_type": "stream",
          "text": [
            "happy new year : sathish\n",
            "happy new year : phani\n",
            "happy new year : ratan\n",
            "done\n"
          ],
          "name": "stdout"
        }
      ]
    },
    {
      "cell_type": "markdown",
      "metadata": {
        "id": "tDRRgJd0tpJB",
        "colab_type": "text"
      },
      "source": [
        "python programme to print a multiplication table"
      ]
    },
    {
      "cell_type": "code",
      "metadata": {
        "id": "Ro_nYNL1tn9R",
        "colab_type": "code",
        "colab": {
          "base_uri": "https://localhost:8080/",
          "height": 212
        },
        "outputId": "1e625414-b7e9-419f-d09b-9f47d64ddd87"
      },
      "source": [
        "n=int(input('enter a number to display its multiplication table'))\n",
        "for i in range (1,11):\n",
        "  print(n,'x',i,'=',n*i)"
      ],
      "execution_count": 22,
      "outputs": [
        {
          "output_type": "stream",
          "text": [
            "enter a number to display its multiplication table33\n",
            "33 x 1 = 33\n",
            "33 x 2 = 66\n",
            "33 x 3 = 99\n",
            "33 x 4 = 132\n",
            "33 x 5 = 165\n",
            "33 x 6 = 198\n",
            "33 x 7 = 231\n",
            "33 x 8 = 264\n",
            "33 x 9 = 297\n",
            "33 x 10 = 330\n"
          ],
          "name": "stdout"
        }
      ]
    },
    {
      "cell_type": "code",
      "metadata": {
        "id": "kDwcRA9-xt8u",
        "colab_type": "code",
        "colab": {}
      },
      "source": [
        "#range(start,end,step)"
      ],
      "execution_count": null,
      "outputs": []
    },
    {
      "cell_type": "code",
      "metadata": {
        "id": "Q0YnMAHNx2DO",
        "colab_type": "code",
        "colab": {
          "base_uri": "https://localhost:8080/",
          "height": 70
        },
        "outputId": "9614cb45-b0f2-4a9c-aff6-04a70574e7c9"
      },
      "source": [
        "x=range(5)\n",
        "print(type(x),x)\n",
        "print(x)\n",
        "\n",
        "x=list(range(5))\n",
        "print(type(x),x)"
      ],
      "execution_count": 24,
      "outputs": [
        {
          "output_type": "stream",
          "text": [
            "<class 'range'> range(0, 5)\n",
            "range(0, 5)\n",
            "<class 'list'> [0, 1, 2, 3, 4]\n"
          ],
          "name": "stdout"
        }
      ]
    },
    {
      "cell_type": "code",
      "metadata": {
        "id": "mpsh8ZblzLhP",
        "colab_type": "code",
        "colab": {
          "base_uri": "https://localhost:8080/",
          "height": 35
        },
        "outputId": "787dbe0b-1453-41e9-84eb-f33850a58589"
      },
      "source": [
        "for i in range(5,10) :\n",
        "  print(i,end=' ')"
      ],
      "execution_count": 25,
      "outputs": [
        {
          "output_type": "stream",
          "text": [
            "5 6 7 8 9 "
          ],
          "name": "stdout"
        }
      ]
    }
  ]
}