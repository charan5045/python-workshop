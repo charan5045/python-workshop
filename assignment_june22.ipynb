{
  "nbformat": 4,
  "nbformat_minor": 0,
  "metadata": {
    "colab": {
      "name": "assignment_june22.ipynb",
      "provenance": [],
      "authorship_tag": "ABX9TyMQnKscOo2yiqIBb6z3uYeL",
      "include_colab_link": true
    },
    "kernelspec": {
      "name": "python3",
      "display_name": "Python 3"
    }
  },
  "cells": [
    {
      "cell_type": "markdown",
      "metadata": {
        "id": "view-in-github",
        "colab_type": "text"
      },
      "source": [
        "<a href=\"https://colab.research.google.com/github/charan5045/python-workshop/blob/master/assignment_june22.ipynb\" target=\"_parent\"><img src=\"https://colab.research.google.com/assets/colab-badge.svg\" alt=\"Open In Colab\"/></a>"
      ]
    },
    {
      "cell_type": "markdown",
      "metadata": {
        "id": "npOi9FEDozbM",
        "colab_type": "text"
      },
      "source": [
        "1.\tWrite a Python function to find the Max of three numbers."
      ]
    },
    {
      "cell_type": "code",
      "metadata": {
        "id": "hN3WeRDipzx7",
        "colab_type": "code",
        "colab": {}
      },
      "source": [
        "def add(a,b,c):\n",
        "  if a>b:\n",
        "    if a>c:\n",
        "      return a\n",
        "    else:\n",
        "      return c\n",
        "  elif b>c:\n",
        "      return b\n",
        "  else:\n",
        "      return c\n",
        "a=int(input())\n",
        "b=int(input())\n",
        "c=int(input())\n",
        "max=add(a,b,c)\n",
        "print (max)"
      ],
      "execution_count": null,
      "outputs": []
    },
    {
      "cell_type": "markdown",
      "metadata": {
        "id": "ii-oKuDyqior",
        "colab_type": "text"
      },
      "source": [
        "2.\tWrite a Python program to reverse a string."
      ]
    },
    {
      "cell_type": "code",
      "metadata": {
        "id": "pbiGenBBrQsl",
        "colab_type": "code",
        "colab": {}
      },
      "source": [
        "a=\"hello\"\n",
        "print(a[::-1])"
      ],
      "execution_count": null,
      "outputs": []
    },
    {
      "cell_type": "markdown",
      "metadata": {
        "id": "VDmuySWVrsAt",
        "colab_type": "text"
      },
      "source": [
        "3.\tWrite a Python function to check whether the number is prime or not."
      ]
    },
    {
      "cell_type": "code",
      "metadata": {
        "id": "q2GVcr-wrwyN",
        "colab_type": "code",
        "colab": {}
      },
      "source": [
        "a=5\n",
        "if a>1:\n",
        "  for i in range (2,a):\n",
        "    if a%i==0:\n",
        "      print(\"not a prime\")\n",
        "      break\n",
        "  else:\n",
        "    print(\"prime\")\n",
        "  else:\n",
        "    print(\"not a prime\")"
      ],
      "execution_count": null,
      "outputs": []
    },
    {
      "cell_type": "markdown",
      "metadata": {
        "id": "h0zT9ai8saZF",
        "colab_type": "text"
      },
      "source": [
        "5.\tWrite a python function to find sum of squares of first n natural numbers."
      ]
    },
    {
      "cell_type": "code",
      "metadata": {
        "id": "oGbcBcSIsjJy",
        "colab_type": "code",
        "colab": {}
      },
      "source": [
        "def squaresum(n):\n",
        "  return (n*(n+1)/2)*(2*(n+1)/3)\n",
        "n=8\n",
        "print(squaresum(n))"
      ],
      "execution_count": null,
      "outputs": []
    }
  ]
}