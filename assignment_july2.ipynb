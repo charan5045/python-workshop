{
  "nbformat": 4,
  "nbformat_minor": 0,
  "metadata": {
    "colab": {
      "name": "assignment_july2.ipynb",
      "provenance": [],
      "authorship_tag": "ABX9TyOThwozycxkO5kk4hHowsMn",
      "include_colab_link": true
    },
    "kernelspec": {
      "name": "python3",
      "display_name": "Python 3"
    }
  },
  "cells": [
    {
      "cell_type": "markdown",
      "metadata": {
        "id": "view-in-github",
        "colab_type": "text"
      },
      "source": [
        "<a href=\"https://colab.research.google.com/github/charan5045/python-workshop/blob/master/assignment_july2.ipynb\" target=\"_parent\"><img src=\"https://colab.research.google.com/assets/colab-badge.svg\" alt=\"Open In Colab\"/></a>"
      ]
    },
    {
      "cell_type": "markdown",
      "metadata": {
        "id": "y3O-dyED2yIE",
        "colab_type": "text"
      },
      "source": [
        "1.What is dictionary in Python? Explain with an example\n",
        "Python Dictionary are defined into two elements i.e., keys and values\n",
        "\n",
        "(1). keys will be in Single Element\n",
        "(2). Values can be in list or list within a list,numbers etc.\n",
        "\n",
        "Syntax: dict={'Charan':45,jhdsfvy,...}"
      ]
    },
    {
      "cell_type": "code",
      "metadata": {
        "id": "IL0WkRtl2tm2",
        "colab_type": "code",
        "colab": {
          "base_uri": "https://localhost:8080/",
          "height": 35
        },
        "outputId": "37bb5355-24cd-4550-8b76-eef5bfa3f550"
      },
      "source": [
        "dict={'Revanth':25,'Sandeep':5,'laya':22,'Charan':45}\n",
        "print(dict['Sandeep'])"
      ],
      "execution_count": 1,
      "outputs": [
        {
          "output_type": "stream",
          "text": [
            "5\n"
          ],
          "name": "stdout"
        }
      ]
    },
    {
      "cell_type": "markdown",
      "metadata": {
        "id": "NH9lrsLS3fld",
        "colab_type": "text"
      },
      "source": [
        "2.Write a Python program to sum all the items in a list."
      ]
    },
    {
      "cell_type": "code",
      "metadata": {
        "id": "safzsoyn3jZy",
        "colab_type": "code",
        "colab": {
          "base_uri": "https://localhost:8080/",
          "height": 35
        },
        "outputId": "7b2f3cd7-3f8e-47e1-85ea-7d4cfc87ea90"
      },
      "source": [
        "def sum_list(items):\n",
        "    sum_numbers = 0\n",
        "    for x in items:\n",
        "        sum_numbers += x\n",
        "    return sum_numbers\n",
        "print(sum_list([5,6,-8]))"
      ],
      "execution_count": 2,
      "outputs": [
        {
          "output_type": "stream",
          "text": [
            "3\n"
          ],
          "name": "stdout"
        }
      ]
    },
    {
      "cell_type": "markdown",
      "metadata": {
        "id": "hh-cKnEG3nlO",
        "colab_type": "text"
      },
      "source": [
        "3.Write a Python program to create a list of empty dictionaries."
      ]
    },
    {
      "cell_type": "code",
      "metadata": {
        "id": "GQd2Hg6E3tSr",
        "colab_type": "code",
        "colab": {
          "base_uri": "https://localhost:8080/",
          "height": 35
        },
        "outputId": "9c3d63f9-1596-47c4-83fb-8c2690c98bff"
      },
      "source": [
        "n = 5\n",
        "l = [{} for _ in range(n)]\n",
        "print(l)"
      ],
      "execution_count": 3,
      "outputs": [
        {
          "output_type": "stream",
          "text": [
            "[{}, {}, {}, {}, {}]\n"
          ],
          "name": "stdout"
        }
      ]
    },
    {
      "cell_type": "markdown",
      "metadata": {
        "id": "FLwk1ECI32wN",
        "colab_type": "text"
      },
      "source": [
        "4.Write a Python program to access dictionary keys element by index."
      ]
    },
    {
      "cell_type": "code",
      "metadata": {
        "id": "mcpDpeRi3-ho",
        "colab_type": "code",
        "colab": {
          "base_uri": "https://localhost:8080/",
          "height": 35
        },
        "outputId": "fc493605-0f85-48a7-81e2-2201243685a2"
      },
      "source": [
        "num = {'physics': 89, 'math': 99, 'chemistry': 86}\n",
        "print(list(num)[1])"
      ],
      "execution_count": 4,
      "outputs": [
        {
          "output_type": "stream",
          "text": [
            "math\n"
          ],
          "name": "stdout"
        }
      ]
    },
    {
      "cell_type": "markdown",
      "metadata": {
        "id": "MbV2wVwN4Ijw",
        "colab_type": "text"
      },
      "source": [
        "5.Write a Python program to iterate over dictionaries using for loops"
      ]
    },
    {
      "cell_type": "code",
      "metadata": {
        "id": "zWeIfNHe4Nni",
        "colab_type": "code",
        "colab": {
          "base_uri": "https://localhost:8080/",
          "height": 70
        },
        "outputId": "14f7bbba-9d50-4088-ff68-d2221c0c5a65"
      },
      "source": [
        "d = {'x': 10, 'y': 20, 'z': 30} \n",
        "for dict_key, dict_value in d.items():\n",
        "    print(dict_key,'->',dict_value)"
      ],
      "execution_count": 5,
      "outputs": [
        {
          "output_type": "stream",
          "text": [
            "x -> 10\n",
            "y -> 20\n",
            "z -> 30\n"
          ],
          "name": "stdout"
        }
      ]
    },
    {
      "cell_type": "markdown",
      "metadata": {
        "id": "BdKC427A4UKB",
        "colab_type": "text"
      },
      "source": [
        "6.Write a Python program to sum all the items in a dictionary."
      ]
    },
    {
      "cell_type": "code",
      "metadata": {
        "id": "EnpSyt7f4ZjD",
        "colab_type": "code",
        "colab": {
          "base_uri": "https://localhost:8080/",
          "height": 35
        },
        "outputId": "49f93a31-e9a1-4d62-ffad-3a5f96a25e27"
      },
      "source": [
        "my_dict = {'data1':100,'data2':-54,'data3':247}\n",
        "print(sum(my_dict.values()))"
      ],
      "execution_count": 6,
      "outputs": [
        {
          "output_type": "stream",
          "text": [
            "293\n"
          ],
          "name": "stdout"
        }
      ]
    },
    {
      "cell_type": "markdown",
      "metadata": {
        "id": "XM-a-mfy4e53",
        "colab_type": "text"
      },
      "source": [
        "7.Write a Python script to concatenate following dictionaries to create a new one. Sample Dictionary: a. dic1 = {1:10, 2:20} b. dic2 = {3:30, 4:40} c. dic3 = {5:50, 6:60}"
      ]
    },
    {
      "cell_type": "code",
      "metadata": {
        "id": "rzQGR1J64mts",
        "colab_type": "code",
        "colab": {
          "base_uri": "https://localhost:8080/",
          "height": 35
        },
        "outputId": "4471051a-12e3-4918-e769-34da1049eedb"
      },
      "source": [
        "dic1={1:10, 2:20}\n",
        "dic2={3:30, 4:40}\n",
        "dic3={5:50,6:60}\n",
        "dic4 = {}\n",
        "for d in (dic1, dic2, dic3): dic4.update(d)\n",
        "print(dic4)"
      ],
      "execution_count": 7,
      "outputs": [
        {
          "output_type": "stream",
          "text": [
            "{1: 10, 2: 20, 3: 30, 4: 40, 5: 50, 6: 60}\n"
          ],
          "name": "stdout"
        }
      ]
    }
  ]
}