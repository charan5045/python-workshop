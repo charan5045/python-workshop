{
  "nbformat": 4,
  "nbformat_minor": 0,
  "metadata": {
    "colab": {
      "name": "assignment_june18.ipynb",
      "provenance": [],
      "authorship_tag": "ABX9TyPi/NFMP9XPp68zgLwYOmWR",
      "include_colab_link": true
    },
    "kernelspec": {
      "name": "python3",
      "display_name": "Python 3"
    }
  },
  "cells": [
    {
      "cell_type": "markdown",
      "metadata": {
        "id": "view-in-github",
        "colab_type": "text"
      },
      "source": [
        "<a href=\"https://colab.research.google.com/github/charan5045/python-workshop/blob/master/assignment_june18.ipynb\" target=\"_parent\"><img src=\"https://colab.research.google.com/assets/colab-badge.svg\" alt=\"Open In Colab\"/></a>"
      ]
    },
    {
      "cell_type": "markdown",
      "metadata": {
        "id": "hqL-qEEGInj5",
        "colab_type": "text"
      },
      "source": [
        "Program to design a simple calculator for operators\n"
      ]
    },
    {
      "cell_type": "code",
      "metadata": {
        "id": "P7fypS2fJCOg",
        "colab_type": "code",
        "colab": {}
      },
      "source": [
        "a=int(input())\n",
        "b=int(input())\n",
        "print(a+b, a-b, a*b, a/b, a//b, a%b, a**b)"
      ],
      "execution_count": null,
      "outputs": []
    },
    {
      "cell_type": "markdown",
      "metadata": {
        "id": "c-IjLAF6Jj8o",
        "colab_type": "text"
      },
      "source": [
        "Program to calculatensimple intrest"
      ]
    },
    {
      "cell_type": "code",
      "metadata": {
        "id": "UWE2c-BnKRAS",
        "colab_type": "code",
        "colab": {}
      },
      "source": [
        "p=int(input()) \n",
        "t=int(input()) \n",
        "r=int(input()) \n",
        "print((ptr) /100)"
      ],
      "execution_count": null,
      "outputs": []
    },
    {
      "cell_type": "markdown",
      "metadata": {
        "id": "2LDAHCiTKE83",
        "colab_type": "text"
      },
      "source": [
        "Program to calculate area of circle"
      ]
    },
    {
      "cell_type": "code",
      "metadata": {
        "id": "_kexMv9GKDjH",
        "colab_type": "code",
        "colab": {}
      },
      "source": [
        "radius=float(input())\n",
        "print('area of circle is', 3.14*radius**2)"
      ],
      "execution_count": null,
      "outputs": []
    },
    {
      "cell_type": "markdown",
      "metadata": {
        "id": "x5B0tvekK2V5",
        "colab_type": "text"
      },
      "source": [
        "Program to calculate area of triangle"
      ]
    },
    {
      "cell_type": "code",
      "metadata": {
        "id": "7guoNJAaK-pA",
        "colab_type": "code",
        "colab": {}
      },
      "source": [
        "breadth=int(input())\n",
        "length=int(input())\n",
        "print(\"area of triangle is\",(1/2)*breadth*length)"
      ],
      "execution_count": null,
      "outputs": []
    },
    {
      "cell_type": "markdown",
      "metadata": {
        "id": "5x3LoA8YL0Qh",
        "colab_type": "text"
      },
      "source": [
        "Programe to convert celsius to fahrenheit"
      ]
    },
    {
      "cell_type": "code",
      "metadata": {
        "id": "6HEzTwdyLzOJ",
        "colab_type": "code",
        "colab": {}
      },
      "source": [
        "celsius=float(input())\n",
        "print('after conversion fahrengheit is', celsius*1.8+32)"
      ],
      "execution_count": null,
      "outputs": []
    },
    {
      "cell_type": "markdown",
      "metadata": {
        "id": "LPxmWM8pMtF6",
        "colab_type": "text"
      },
      "source": [
        "Program to calculate area of rectangle"
      ]
    },
    {
      "cell_type": "code",
      "metadata": {
        "id": "A3xOstOXM2Cg",
        "colab_type": "code",
        "colab": {}
      },
      "source": [
        "length=int(input())\n",
        "breadth=int(input())\n",
        "print('arewa of rectangle is', length*breadth)"
      ],
      "execution_count": null,
      "outputs": []
    },
    {
      "cell_type": "markdown",
      "metadata": {
        "id": "qQrjELUUNwT5",
        "colab_type": "text"
      },
      "source": [
        "Programe to calculate perimeter of square"
      ]
    },
    {
      "cell_type": "code",
      "metadata": {
        "id": "-bBKRd4iN53x",
        "colab_type": "code",
        "colab": {}
      },
      "source": [
        "a=int(input())\n",
        "print(\"print perimeter of a square is\", 4*a)"
      ],
      "execution_count": null,
      "outputs": []
    },
    {
      "cell_type": "markdown",
      "metadata": {
        "id": "ITLq7S28-alh",
        "colab_type": "text"
      },
      "source": [
        "Programme to calculate circumference of a circle"
      ]
    },
    {
      "cell_type": "code",
      "metadata": {
        "id": "MQoHFzOT-vuN",
        "colab_type": "code",
        "colab": {}
      },
      "source": [
        "radius=float(input())\n",
        "print(\"circumference of a circle is\", 2*3.14*radius)"
      ],
      "execution_count": null,
      "outputs": []
    },
    {
      "cell_type": "markdown",
      "metadata": {
        "id": "YhVJyyIu_Nzi",
        "colab_type": "text"
      },
      "source": [
        "Programme to swap two numbers"
      ]
    },
    {
      "cell_type": "code",
      "metadata": {
        "id": "Fg6hW-YT_UjU",
        "colab_type": "code",
        "colab": {}
      },
      "source": [
        "a=int(input())\n",
        "b=int(input())\n",
        "temp=a\n",
        "a=b\n",
        "b=temp\n",
        "print(\"after swapping the values are\", a, b)"
      ],
      "execution_count": null,
      "outputs": []
    }
  ]
}