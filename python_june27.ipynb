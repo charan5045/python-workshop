{
  "nbformat": 4,
  "nbformat_minor": 0,
  "metadata": {
    "colab": {
      "name": "python_june27",
      "provenance": [],
      "collapsed_sections": [],
      "authorship_tag": "ABX9TyOK4rA1MIYiUXbkrQJO9sY7",
      "include_colab_link": true
    },
    "kernelspec": {
      "name": "python3",
      "display_name": "Python 3"
    }
  },
  "cells": [
    {
      "cell_type": "markdown",
      "metadata": {
        "id": "view-in-github",
        "colab_type": "text"
      },
      "source": [
        "<a href=\"https://colab.research.google.com/github/charan5045/python-workshop/blob/master/python_june27.ipynb\" target=\"_parent\"><img src=\"https://colab.research.google.com/assets/colab-badge.svg\" alt=\"Open In Colab\"/></a>"
      ]
    },
    {
      "cell_type": "markdown",
      "metadata": {
        "id": "5oofFtJr_REM",
        "colab_type": "text"
      },
      "source": [
        "#Lists"
      ]
    },
    {
      "cell_type": "code",
      "metadata": {
        "id": "uDui_fx44NsA",
        "colab_type": "code",
        "colab": {
          "base_uri": "https://localhost:8080/",
          "height": 35
        },
        "outputId": "fb17393f-b3c0-43d2-aed4-2d33b20f13d5"
      },
      "source": [
        "list1=[1,2,3,'xyz',[1,3]]\n",
        "print(list1)"
      ],
      "execution_count": null,
      "outputs": [
        {
          "output_type": "stream",
          "text": [
            "[1, 2, 3, 'xyz', [1, 3]]\n"
          ],
          "name": "stdout"
        }
      ]
    },
    {
      "cell_type": "code",
      "metadata": {
        "id": "FRMwAnMmCzXl",
        "colab_type": "code",
        "colab": {
          "base_uri": "https://localhost:8080/",
          "height": 35
        },
        "outputId": "7f1b3e44-ad34-4972-bda0-e42b769f8e52"
      },
      "source": [
        "list1=[1,2,3,'xyz',[1,3]]\n",
        "list2=[]\n",
        "print(list1,list2)"
      ],
      "execution_count": null,
      "outputs": [
        {
          "output_type": "stream",
          "text": [
            "[1, 2, 3, 'xyz', [1, 3]] []\n"
          ],
          "name": "stdout"
        }
      ]
    },
    {
      "cell_type": "code",
      "metadata": {
        "id": "QZMnH5sQC915",
        "colab_type": "code",
        "colab": {
          "base_uri": "https://localhost:8080/",
          "height": 35
        },
        "outputId": "9df39592-8748-437b-c418-ecc93281829d"
      },
      "source": [
        "li=[1,2,3,2,3,4]\n",
        "print(li)"
      ],
      "execution_count": null,
      "outputs": [
        {
          "output_type": "stream",
          "text": [
            "[1, 2, 3, 2, 3, 4]\n"
          ],
          "name": "stdout"
        }
      ]
    },
    {
      "cell_type": "code",
      "metadata": {
        "id": "iIv_gaXMC9Qn",
        "colab_type": "code",
        "colab": {
          "base_uri": "https://localhost:8080/",
          "height": 35
        },
        "outputId": "6140a560-99c5-49f3-a036-7edb6c7ca22c"
      },
      "source": [
        "print(li[3])"
      ],
      "execution_count": null,
      "outputs": [
        {
          "output_type": "stream",
          "text": [
            "2\n"
          ],
          "name": "stdout"
        }
      ]
    },
    {
      "cell_type": "code",
      "metadata": {
        "id": "xG16pT44EoBR",
        "colab_type": "code",
        "colab": {
          "base_uri": "https://localhost:8080/"
        },
        "outputId": "c62f4070-6b3a-4e71-b437-5e516e1dcdcf"
      },
      "source": [
        "li[3]= 5\n",
        "print(li)"
      ],
      "execution_count": null,
      "outputs": [
        {
          "output_type": "stream",
          "text": [
            "[1, 2, 3, 5, 3, 4]\n"
          ],
          "name": "stdout"
        }
      ]
    },
    {
      "cell_type": "code",
      "metadata": {
        "id": "tKZxT0CzFM7A",
        "colab_type": "code",
        "colab": {
          "base_uri": "https://localhost:8080/",
          "height": 35
        },
        "outputId": "a7a21f06-28f4-4eb3-c6f1-ab56bde1f135"
      },
      "source": [
        "2 in li"
      ],
      "execution_count": 11,
      "outputs": [
        {
          "output_type": "execute_result",
          "data": {
            "text/plain": [
              "True"
            ]
          },
          "metadata": {
            "tags": []
          },
          "execution_count": 11
        }
      ]
    },
    {
      "cell_type": "code",
      "metadata": {
        "id": "JnGgfu9BGMsU",
        "colab_type": "code",
        "colab": {
          "base_uri": "https://localhost:8080/",
          "height": 35
        },
        "outputId": "f6c9e909-8f69-4397-e6ab-b4b7987f4d8f"
      },
      "source": [
        "6 in li"
      ],
      "execution_count": 12,
      "outputs": [
        {
          "output_type": "execute_result",
          "data": {
            "text/plain": [
              "False"
            ]
          },
          "metadata": {
            "tags": []
          },
          "execution_count": 12
        }
      ]
    },
    {
      "cell_type": "code",
      "metadata": {
        "id": "ooxbIPmKGVo-",
        "colab_type": "code",
        "colab": {
          "base_uri": "https://localhost:8080/",
          "height": 124
        },
        "outputId": "b6cb8c17-c4ca-4916-9c1d-8644c3d62a4a"
      },
      "source": [
        "for i in li:\n",
        "  print(i)"
      ],
      "execution_count": 13,
      "outputs": [
        {
          "output_type": "stream",
          "text": [
            "1\n",
            "2\n",
            "3\n",
            "5\n",
            "3\n",
            "4\n"
          ],
          "name": "stdout"
        }
      ]
    },
    {
      "cell_type": "code",
      "metadata": {
        "id": "U1hznSCoGiJU",
        "colab_type": "code",
        "colab": {
          "base_uri": "https://localhost:8080/",
          "height": 124
        },
        "outputId": "b6668e47-6d4b-49cf-b8d2-3b6eac1a752c"
      },
      "source": [
        "for i in range(len(li)):\n",
        "  li[i]=li[i]*2\n",
        "  print(li)"
      ],
      "execution_count": 18,
      "outputs": [
        {
          "output_type": "stream",
          "text": [
            "[16, 1024, 24, 40, 24, 32]\n",
            "[16, 2048, 24, 40, 24, 32]\n",
            "[16, 2048, 48, 40, 24, 32]\n",
            "[16, 2048, 48, 80, 24, 32]\n",
            "[16, 2048, 48, 80, 48, 32]\n",
            "[16, 2048, 48, 80, 48, 64]\n"
          ],
          "name": "stdout"
        }
      ]
    },
    {
      "cell_type": "code",
      "metadata": {
        "id": "0QsinBoyJZDi",
        "colab_type": "code",
        "colab": {}
      },
      "source": [
        "l3=[]\n",
        "for i in l3:\n",
        "  print(\"this will never happen\")"
      ],
      "execution_count": 19,
      "outputs": []
    },
    {
      "cell_type": "code",
      "metadata": {
        "id": "IMnToNXFJnGv",
        "colab_type": "code",
        "colab": {
          "base_uri": "https://localhost:8080/",
          "height": 35
        },
        "outputId": "88a41d29-4b3f-4770-c77f-76f66ebda6bd"
      },
      "source": [
        "a=[1,2,3]\n",
        "b=[5,6,7,8]\n",
        "c=a+b\n",
        "print(c)"
      ],
      "execution_count": 20,
      "outputs": [
        {
          "output_type": "stream",
          "text": [
            "[1, 2, 3, 5, 6, 7, 8]\n"
          ],
          "name": "stdout"
        }
      ]
    },
    {
      "cell_type": "code",
      "metadata": {
        "id": "qBEtS1ZlJ56P",
        "colab_type": "code",
        "colab": {
          "base_uri": "https://localhost:8080/",
          "height": 35
        },
        "outputId": "36533efc-a4f0-4d5c-ccf9-ac8904a99459"
      },
      "source": [
        "[1,2]*4"
      ],
      "execution_count": 21,
      "outputs": [
        {
          "output_type": "execute_result",
          "data": {
            "text/plain": [
              "[1, 2, 1, 2, 1, 2, 1, 2]"
            ]
          },
          "metadata": {
            "tags": []
          },
          "execution_count": 21
        }
      ]
    },
    {
      "cell_type": "code",
      "metadata": {
        "id": "LMNwCaaiKGVQ",
        "colab_type": "code",
        "colab": {
          "base_uri": "https://localhost:8080/",
          "height": 35
        },
        "outputId": "8e91b88e-3fc1-4317-e3e4-fd274fada410"
      },
      "source": [
        "t=[1,2,3,4,5,6,7,7,8]\n",
        "t[2:7]"
      ],
      "execution_count": 23,
      "outputs": [
        {
          "output_type": "execute_result",
          "data": {
            "text/plain": [
              "[3, 4, 5, 6, 7]"
            ]
          },
          "metadata": {
            "tags": []
          },
          "execution_count": 23
        }
      ]
    },
    {
      "cell_type": "code",
      "metadata": {
        "id": "slHLOBiPLYmN",
        "colab_type": "code",
        "colab": {
          "base_uri": "https://localhost:8080/",
          "height": 35
        },
        "outputId": "61bc7a12-747b-42bd-82d3-175b04ac041d"
      },
      "source": [
        "t[2:5] =[7,9]\n",
        "print(t)"
      ],
      "execution_count": 28,
      "outputs": [
        {
          "output_type": "stream",
          "text": [
            "[1, 2, 7, 9, 6, 7, 7, 8]\n"
          ],
          "name": "stdout"
        }
      ]
    },
    {
      "cell_type": "code",
      "metadata": {
        "id": "jZlN3Fk7L_ql",
        "colab_type": "code",
        "colab": {
          "base_uri": "https://localhost:8080/",
          "height": 88
        },
        "outputId": "4590cdc6-3c1b-4027-b7cd-b56fdaffed21"
      },
      "source": [
        "list1=[\"Hi\",\"Hello\",\"Hey\"]\n",
        "for item in list1:\n",
        "    print(item)\n",
        "a=list1+[2,3,4]\n",
        "print(a)\n"
      ],
      "execution_count": 30,
      "outputs": [
        {
          "output_type": "stream",
          "text": [
            "Hi\n",
            "Hello\n",
            "Hey\n",
            "['Hi', 'Hello', 'Hey', 2, 3, 4]\n"
          ],
          "name": "stdout"
        }
      ]
    },
    {
      "cell_type": "markdown",
      "metadata": {
        "id": "src5nqf1Mt2G",
        "colab_type": "text"
      },
      "source": [
        "#Lists Methods"
      ]
    },
    {
      "cell_type": "code",
      "metadata": {
        "id": "rrkRkNAWM1LE",
        "colab_type": "code",
        "colab": {
          "base_uri": "https://localhost:8080/",
          "height": 35
        },
        "outputId": "ab404616-b104-42a1-aefa-cf3c4bd69a87"
      },
      "source": [
        "list3=[2,4,7,9,4]\n",
        "list3.append('3.4')\n",
        "print(list3)"
      ],
      "execution_count": 32,
      "outputs": [
        {
          "output_type": "stream",
          "text": [
            "[2, 4, 7, 9, 4, '3.4']\n"
          ],
          "name": "stdout"
        }
      ]
    },
    {
      "cell_type": "code",
      "metadata": {
        "id": "660up35tNaE9",
        "colab_type": "code",
        "colab": {
          "base_uri": "https://localhost:8080/",
          "height": 35
        },
        "outputId": "58e71032-be43-4efe-f493-be0219818e63"
      },
      "source": [
        "list4=[8,9]\n",
        "list3.extend(list4)\n",
        "print(list3)"
      ],
      "execution_count": 35,
      "outputs": [
        {
          "output_type": "stream",
          "text": [
            "[2, 4, 7, 9, 4, '3.4', 8, 9]\n"
          ],
          "name": "stdout"
        }
      ]
    },
    {
      "cell_type": "code",
      "metadata": {
        "id": "WlQ-0OuTN5B4",
        "colab_type": "code",
        "colab": {
          "base_uri": "https://localhost:8080/",
          "height": 35
        },
        "outputId": "a26197f5-e445-4f72-f311-340400262165"
      },
      "source": [
        "l4=[3,2,1,5,7]\n",
        "l4.sort()\n",
        "print(l4)"
      ],
      "execution_count": 36,
      "outputs": [
        {
          "output_type": "stream",
          "text": [
            "[1, 2, 3, 5, 7]\n"
          ],
          "name": "stdout"
        }
      ]
    },
    {
      "cell_type": "code",
      "metadata": {
        "id": "q7UFkYAMPErY",
        "colab_type": "code",
        "colab": {
          "base_uri": "https://localhost:8080/",
          "height": 35
        },
        "outputId": "884330ed-e6cb-4178-aad2-0d9c4cce0961"
      },
      "source": [
        "l4.index(5)"
      ],
      "execution_count": 41,
      "outputs": [
        {
          "output_type": "execute_result",
          "data": {
            "text/plain": [
              "3"
            ]
          },
          "metadata": {
            "tags": []
          },
          "execution_count": 41
        }
      ]
    },
    {
      "cell_type": "code",
      "metadata": {
        "id": "NlY9G4mzP9GY",
        "colab_type": "code",
        "colab": {
          "base_uri": "https://localhost:8080/",
          "height": 35
        },
        "outputId": "7af4d1c3-9a34-47e7-c199-7073c79c6b0a"
      },
      "source": [
        "l4.sort(reverse=True)\n",
        "print(l4)"
      ],
      "execution_count": 44,
      "outputs": [
        {
          "output_type": "stream",
          "text": [
            "[7, 5, 3, 2, 1]\n"
          ],
          "name": "stdout"
        }
      ]
    },
    {
      "cell_type": "code",
      "metadata": {
        "id": "po6QN9heQSrj",
        "colab_type": "code",
        "colab": {
          "base_uri": "https://localhost:8080/",
          "height": 35
        },
        "outputId": "56fd0122-b95d-457c-b930-a489e7d102ba"
      },
      "source": [
        "l4.sort(reverse=False)\n",
        "print(l4)"
      ],
      "execution_count": 45,
      "outputs": [
        {
          "output_type": "stream",
          "text": [
            "[1, 2, 3, 5, 7]\n"
          ],
          "name": "stdout"
        }
      ]
    }
  ]
}