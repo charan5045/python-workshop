{
  "nbformat": 4,
  "nbformat_minor": 0,
  "metadata": {
    "colab": {
      "name": "python_june29.ipynb",
      "provenance": [],
      "authorship_tag": "ABX9TyPzLdcO4Fr3Xuoi43BTEiEY",
      "include_colab_link": true
    },
    "kernelspec": {
      "name": "python3",
      "display_name": "Python 3"
    }
  },
  "cells": [
    {
      "cell_type": "markdown",
      "metadata": {
        "id": "view-in-github",
        "colab_type": "text"
      },
      "source": [
        "<a href=\"https://colab.research.google.com/github/charan5045/python-workshop/blob/master/python_june29.ipynb\" target=\"_parent\"><img src=\"https://colab.research.google.com/assets/colab-badge.svg\" alt=\"Open In Colab\"/></a>"
      ]
    },
    {
      "cell_type": "markdown",
      "metadata": {
        "id": "0rl67HJcRS_B",
        "colab_type": "text"
      },
      "source": [
        "#List methods"
      ]
    },
    {
      "cell_type": "code",
      "metadata": {
        "id": "-JjtO0b7M2mK",
        "colab_type": "code",
        "colab": {
          "base_uri": "https://localhost:8080/",
          "height": 35
        },
        "outputId": "4716c83d-625e-40bb-a741-1f28a8f55a0e"
      },
      "source": [
        "a=['q','e','y']\n",
        "b=[1,2,3]\n",
        "a.extend(b)\n",
        "print(a)"
      ],
      "execution_count": null,
      "outputs": [
        {
          "output_type": "stream",
          "text": [
            "['q', 'e', 'y', 1, 2, 3]\n"
          ],
          "name": "stdout"
        }
      ]
    },
    {
      "cell_type": "code",
      "metadata": {
        "id": "fnj2y5ewSy2m",
        "colab_type": "code",
        "colab": {
          "base_uri": "https://localhost:8080/",
          "height": 35
        },
        "outputId": "5efe3581-fb48-40fc-aa6d-b4c529465bab"
      },
      "source": [
        "a=['q','e','y']\n",
        "a.insert(2,b)\n",
        "print(a)"
      ],
      "execution_count": null,
      "outputs": [
        {
          "output_type": "stream",
          "text": [
            "['q', 'e', [1, 2, 3], 'y']\n"
          ],
          "name": "stdout"
        }
      ]
    },
    {
      "cell_type": "markdown",
      "metadata": {
        "id": "sDTexNuOTc_0",
        "colab_type": "text"
      },
      "source": [
        "Deleting element from list"
      ]
    },
    {
      "cell_type": "code",
      "metadata": {
        "id": "VBLOUXvuTlNN",
        "colab_type": "code",
        "colab": {
          "base_uri": "https://localhost:8080/",
          "height": 52
        },
        "outputId": "29d73c84-5eaa-4584-c18d-02bfc50f1fc2"
      },
      "source": [
        "x=[1,2,3,4,5,6,7,8]\n",
        "y=x.pop(3)\n",
        "print(x)\n",
        "print(y)"
      ],
      "execution_count": null,
      "outputs": [
        {
          "output_type": "stream",
          "text": [
            "[1, 2, 3, 5, 6, 7, 8]\n",
            "4\n"
          ],
          "name": "stdout"
        }
      ]
    },
    {
      "cell_type": "code",
      "metadata": {
        "id": "TPUhBvyWUd4v",
        "colab_type": "code",
        "colab": {
          "base_uri": "https://localhost:8080/",
          "height": 35
        },
        "outputId": "4d4bd884-4d82-4268-d4da-be15764e5aaf"
      },
      "source": [
        "x=[1,2,3,4,5,6,7,8]\n",
        "del x[3]\n",
        "print(x)"
      ],
      "execution_count": null,
      "outputs": [
        {
          "output_type": "stream",
          "text": [
            "[1, 2, 3, 5, 6, 7, 8]\n"
          ],
          "name": "stdout"
        }
      ]
    },
    {
      "cell_type": "code",
      "metadata": {
        "id": "69mA83koVmZk",
        "colab_type": "code",
        "colab": {
          "base_uri": "https://localhost:8080/",
          "height": 34
        },
        "outputId": "ca763649-0d53-4cd5-96fb-b53fc8c02bd3"
      },
      "source": [
        "x=[1,2,3,4,5,6,7,8]\n",
        "x.remove(2)\n",
        "print(x)"
      ],
      "execution_count": null,
      "outputs": [
        {
          "output_type": "stream",
          "text": [
            "[1, 3, 4, 5, 6, 7, 8]\n"
          ],
          "name": "stdout"
        }
      ]
    },
    {
      "cell_type": "code",
      "metadata": {
        "id": "MkN1-A1AVs-W",
        "colab_type": "code",
        "colab": {
          "base_uri": "https://localhost:8080/",
          "height": 34
        },
        "outputId": "cf176d01-00e3-4c10-99b0-57c7ac59328e"
      },
      "source": [
        "x=[1,2,3,4,5,6,7,8]\n",
        "del x[2:4]\n",
        "print(x)"
      ],
      "execution_count": null,
      "outputs": [
        {
          "output_type": "stream",
          "text": [
            "[1, 2, 5, 6, 7, 8]\n"
          ],
          "name": "stdout"
        }
      ]
    },
    {
      "cell_type": "markdown",
      "metadata": {
        "id": "lL8gyL69V9bO",
        "colab_type": "text"
      },
      "source": [
        "Builtin functions"
      ]
    },
    {
      "cell_type": "code",
      "metadata": {
        "id": "vEQtWPTiWZ3R",
        "colab_type": "code",
        "colab": {
          "base_uri": "https://localhost:8080/",
          "height": 34
        },
        "outputId": "15b7e088-3ff1-41ea-8783-ebccd96d829c"
      },
      "source": [
        "a=[1,2,3,4,5]\n",
        "max(a)"
      ],
      "execution_count": null,
      "outputs": [
        {
          "output_type": "execute_result",
          "data": {
            "text/plain": [
              "5"
            ]
          },
          "metadata": {
            "tags": []
          },
          "execution_count": 11
        }
      ]
    },
    {
      "cell_type": "code",
      "metadata": {
        "id": "cww9Au_tXIJb",
        "colab_type": "code",
        "colab": {
          "base_uri": "https://localhost:8080/",
          "height": 34
        },
        "outputId": "67897d56-4566-49fe-b540-8dcd9a1fc718"
      },
      "source": [
        "a=[1,2,3,4,5]\n",
        "min(a)"
      ],
      "execution_count": null,
      "outputs": [
        {
          "output_type": "execute_result",
          "data": {
            "text/plain": [
              "1"
            ]
          },
          "metadata": {
            "tags": []
          },
          "execution_count": 12
        }
      ]
    },
    {
      "cell_type": "code",
      "metadata": {
        "id": "07xUq8stXjDz",
        "colab_type": "code",
        "colab": {
          "base_uri": "https://localhost:8080/",
          "height": 34
        },
        "outputId": "66a36bd4-e5ae-477a-dc52-a8469d8686a1"
      },
      "source": [
        "a=[1,2,3,4,5]\n",
        "sum(a)"
      ],
      "execution_count": null,
      "outputs": [
        {
          "output_type": "execute_result",
          "data": {
            "text/plain": [
              "15"
            ]
          },
          "metadata": {
            "tags": []
          },
          "execution_count": 13
        }
      ]
    },
    {
      "cell_type": "code",
      "metadata": {
        "id": "rJxkMTkeXngG",
        "colab_type": "code",
        "colab": {
          "base_uri": "https://localhost:8080/",
          "height": 34
        },
        "outputId": "099b0dd2-48b8-4491-9f7a-34cf35d45baa"
      },
      "source": [
        "a=[1,2,3,4,5]\n",
        "len(a)"
      ],
      "execution_count": null,
      "outputs": [
        {
          "output_type": "execute_result",
          "data": {
            "text/plain": [
              "5"
            ]
          },
          "metadata": {
            "tags": []
          },
          "execution_count": 14
        }
      ]
    },
    {
      "cell_type": "code",
      "metadata": {
        "id": "p0iSM8_0Xuxn",
        "colab_type": "code",
        "colab": {
          "base_uri": "https://localhost:8080/",
          "height": 34
        },
        "outputId": "5940c008-ce2b-483d-946e-075c30f5cbc5"
      },
      "source": [
        "a=[1,2,3,4,3,4,5,3]\n",
        "a.count(3)"
      ],
      "execution_count": null,
      "outputs": [
        {
          "output_type": "execute_result",
          "data": {
            "text/plain": [
              "3"
            ]
          },
          "metadata": {
            "tags": []
          },
          "execution_count": 16
        }
      ]
    },
    {
      "cell_type": "code",
      "metadata": {
        "id": "VjweHh1xYD_Y",
        "colab_type": "code",
        "colab": {
          "base_uri": "https://localhost:8080/",
          "height": 34
        },
        "outputId": "92065d7a-0411-446d-b6fa-cd5029b09bf6"
      },
      "source": [
        "l1=[7,10,3,4,3,3,2,9,4,9]\n",
        "sum_lst=0\n",
        "for item in l1:\n",
        "    sum_lst+=item\n",
        "print(\"Sum=\",sum_lst)\n"
      ],
      "execution_count": null,
      "outputs": [
        {
          "output_type": "stream",
          "text": [
            "Sum= 54\n"
          ],
          "name": "stdout"
        }
      ]
    },
    {
      "cell_type": "code",
      "metadata": {
        "id": "ShIqEfEEYfFZ",
        "colab_type": "code",
        "colab": {
          "base_uri": "https://localhost:8080/",
          "height": 134
        },
        "outputId": "6452e4d9-bcf0-4aed-ce7c-b143a2cb2774"
      },
      "source": [
        "a=[10,20,30,40,50]\n",
        "sum=0\n",
        "for i in a:\n",
        "  sum=sum+i\n",
        "  print(sum)\n",
        "print(\"sum is\",sum)\n",
        "avg=sum/len(a)\n",
        "print('avg is',avg)"
      ],
      "execution_count": null,
      "outputs": [
        {
          "output_type": "stream",
          "text": [
            "10\n",
            "30\n",
            "60\n",
            "100\n",
            "150\n",
            "sum is 150\n",
            "avg is 30.0\n"
          ],
          "name": "stdout"
        }
      ]
    },
    {
      "cell_type": "markdown",
      "metadata": {
        "id": "XmEQGZhzZsVx",
        "colab_type": "text"
      },
      "source": [
        "List with the strings"
      ]
    },
    {
      "cell_type": "code",
      "metadata": {
        "id": "niwR9YKQZyOK",
        "colab_type": "code",
        "colab": {
          "base_uri": "https://localhost:8080/",
          "height": 34
        },
        "outputId": "7664ded3-c81c-402a-9803-8fb88b04f274"
      },
      "source": [
        "s='INDIA'\n",
        "t=list(s)\n",
        "print(t)"
      ],
      "execution_count": null,
      "outputs": [
        {
          "output_type": "stream",
          "text": [
            "['I', 'N', 'D', 'I', 'A']\n"
          ],
          "name": "stdout"
        }
      ]
    },
    {
      "cell_type": "code",
      "metadata": {
        "id": "JwU5gsGPaySD",
        "colab_type": "code",
        "colab": {
          "base_uri": "https://localhost:8080/",
          "height": 52
        },
        "outputId": "b8af39fe-dc1b-4261-d67f-3b1e3f0e8658"
      },
      "source": [
        "R=\"hi-hello-welcome\"\n",
        "delimiter='-'\n",
        "T=R.split(delimiter)\n",
        "print(T)\n",
        "T[2]"
      ],
      "execution_count": null,
      "outputs": [
        {
          "output_type": "stream",
          "text": [
            "['hi', 'hello', 'welcome']\n"
          ],
          "name": "stdout"
        },
        {
          "output_type": "execute_result",
          "data": {
            "application/vnd.google.colaboratory.intrinsic": {
              "type": "string"
            },
            "text/plain": [
              "'welcome'"
            ]
          },
          "metadata": {
            "tags": []
          },
          "execution_count": 33
        }
      ]
    },
    {
      "cell_type": "code",
      "metadata": {
        "id": "mhpbQFQla-_p",
        "colab_type": "code",
        "colab": {
          "base_uri": "https://localhost:8080/",
          "height": 52
        },
        "outputId": "3798af75-9a84-42af-f3c6-f43868549a23"
      },
      "source": [
        "print(T)\n",
        "delimiter=' '\n",
        "delimiter.join(T)"
      ],
      "execution_count": null,
      "outputs": [
        {
          "output_type": "stream",
          "text": [
            "['hi', 'hello', 'welcome']\n"
          ],
          "name": "stdout"
        },
        {
          "output_type": "execute_result",
          "data": {
            "application/vnd.google.colaboratory.intrinsic": {
              "type": "string"
            },
            "text/plain": [
              "'hi hello welcome'"
            ]
          },
          "metadata": {
            "tags": []
          },
          "execution_count": 35
        }
      ]
    },
    {
      "cell_type": "code",
      "metadata": {
        "id": "UfeMtAzWcFB0",
        "colab_type": "code",
        "colab": {
          "base_uri": "https://localhost:8080/",
          "height": 52
        },
        "outputId": "bf21b690-2319-4d87-94cf-92b6ebf4923a"
      },
      "source": [
        "print(T)\n",
        "delimiter=\"_\"\n",
        "delimiter.join(T)"
      ],
      "execution_count": null,
      "outputs": [
        {
          "output_type": "stream",
          "text": [
            "['hi', 'hello', 'welcome']\n"
          ],
          "name": "stdout"
        },
        {
          "output_type": "execute_result",
          "data": {
            "application/vnd.google.colaboratory.intrinsic": {
              "type": "string"
            },
            "text/plain": [
              "'hi_hello_welcome'"
            ]
          },
          "metadata": {
            "tags": []
          },
          "execution_count": 37
        }
      ]
    },
    {
      "cell_type": "markdown",
      "metadata": {
        "id": "qyLVPjEgeYwr",
        "colab_type": "text"
      },
      "source": [
        "Variables and objects"
      ]
    },
    {
      "cell_type": "code",
      "metadata": {
        "id": "IMF_LPy2cOh_",
        "colab_type": "code",
        "colab": {
          "base_uri": "https://localhost:8080/",
          "height": 34
        },
        "outputId": "fd27f5e8-07a7-4912-d71e-a863b1a995ba"
      },
      "source": [
        "a='anu'\n",
        "b='anu'\n",
        "a is b"
      ],
      "execution_count": null,
      "outputs": [
        {
          "output_type": "execute_result",
          "data": {
            "text/plain": [
              "True"
            ]
          },
          "metadata": {
            "tags": []
          },
          "execution_count": 38
        }
      ]
    },
    {
      "cell_type": "code",
      "metadata": {
        "id": "-XFPMJujefnQ",
        "colab_type": "code",
        "colab": {
          "base_uri": "https://localhost:8080/",
          "height": 34
        },
        "outputId": "d7aca381-2fb2-4845-d7f1-dc4ff51ddde9"
      },
      "source": [
        "x=[1,2,3]\n",
        "y=[1,2,3]\n",
        "x is y"
      ],
      "execution_count": null,
      "outputs": [
        {
          "output_type": "execute_result",
          "data": {
            "text/plain": [
              "False"
            ]
          },
          "metadata": {
            "tags": []
          },
          "execution_count": 39
        }
      ]
    },
    {
      "cell_type": "markdown",
      "metadata": {
        "id": "nw6EfHCngN5G",
        "colab_type": "text"
      },
      "source": [
        "Aliasing"
      ]
    },
    {
      "cell_type": "code",
      "metadata": {
        "id": "OkgA36LAet_r",
        "colab_type": "code",
        "colab": {
          "base_uri": "https://localhost:8080/",
          "height": 67
        },
        "outputId": "5907cdaa-6aa2-4b65-d9cf-76e1e64e1afd"
      },
      "source": [
        "a=[1,2,3]\n",
        "b=a\n",
        "print(b)\n",
        "a[0]='a'\n",
        "b[2]='e'\n",
        "print(a)\n",
        "print(b)"
      ],
      "execution_count": null,
      "outputs": [
        {
          "output_type": "stream",
          "text": [
            "[1, 2, 3]\n",
            "['a', 2, 'e']\n",
            "['a', 2, 'e']\n"
          ],
          "name": "stdout"
        }
      ]
    },
    {
      "cell_type": "markdown",
      "metadata": {
        "id": "yXvWBK2dhH09",
        "colab_type": "text"
      },
      "source": [
        "List arguments"
      ]
    },
    {
      "cell_type": "code",
      "metadata": {
        "id": "vB-kUuQ_gX-_",
        "colab_type": "code",
        "colab": {}
      },
      "source": [
        "def delet_ele(t):\n",
        "  del t[1]\n",
        "  t.insert(2,t)\n"
      ],
      "execution_count": null,
      "outputs": []
    },
    {
      "cell_type": "code",
      "metadata": {
        "id": "6JSrTTowiDkG",
        "colab_type": "code",
        "colab": {
          "base_uri": "https://localhost:8080/",
          "height": 34
        },
        "outputId": "4ede7d31-ddff-410f-fb1a-14eaa2fcc19d"
      },
      "source": [
        "letter=['a','d','g','r']\n",
        "delet_ele(letter)\n",
        "print(letter)"
      ],
      "execution_count": null,
      "outputs": [
        {
          "output_type": "stream",
          "text": [
            "['a', 'g', [...], 'r']\n"
          ],
          "name": "stdout"
        }
      ]
    },
    {
      "cell_type": "code",
      "metadata": {
        "id": "SWDpaIc3jZhW",
        "colab_type": "code",
        "colab": {
          "base_uri": "https://localhost:8080/",
          "height": 34
        },
        "outputId": "2d7eea31-6a76-4467-e094-100d2c008e83"
      },
      "source": [
        "t1=[1,2]\n",
        "t1=t1.append(3)\n",
        "print(t1)"
      ],
      "execution_count": null,
      "outputs": [
        {
          "output_type": "stream",
          "text": [
            "None\n"
          ],
          "name": "stdout"
        }
      ]
    },
    {
      "cell_type": "code",
      "metadata": {
        "id": "aR1LGZAljlvC",
        "colab_type": "code",
        "colab": {
          "base_uri": "https://localhost:8080/",
          "height": 34
        },
        "outputId": "f9dcbe13-7957-4fb7-f1f8-064ee60886d0"
      },
      "source": [
        "t1=[1,2]\n",
        "t3=[4,5]\n",
        "t3=t1+t3\n",
        "print(t3)"
      ],
      "execution_count": null,
      "outputs": [
        {
          "output_type": "stream",
          "text": [
            "[1, 2, 4, 5]\n"
          ],
          "name": "stdout"
        }
      ]
    }
  ]
}