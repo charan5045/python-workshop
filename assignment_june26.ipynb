{
  "nbformat": 4,
  "nbformat_minor": 0,
  "metadata": {
    "colab": {
      "name": "assignment_june26.ipynb",
      "provenance": [],
      "authorship_tag": "ABX9TyN/fngDirtAkIxCbINIolzT",
      "include_colab_link": true
    },
    "kernelspec": {
      "name": "python3",
      "display_name": "Python 3"
    }
  },
  "cells": [
    {
      "cell_type": "markdown",
      "metadata": {
        "id": "view-in-github",
        "colab_type": "text"
      },
      "source": [
        "<a href=\"https://colab.research.google.com/github/charan5045/python-workshop/blob/master/assignment_june26.ipynb\" target=\"_parent\"><img src=\"https://colab.research.google.com/assets/colab-badge.svg\" alt=\"Open In Colab\"/></a>"
      ]
    },
    {
      "cell_type": "markdown",
      "metadata": {
        "id": "JV9obRyeTmK4",
        "colab_type": "text"
      },
      "source": [
        "1.Write a Python program to calculate the length of a string."
      ]
    },
    {
      "cell_type": "code",
      "metadata": {
        "id": "lyRKVE-zThG1",
        "colab_type": "code",
        "colab": {
          "base_uri": "https://localhost:8080/",
          "height": 35
        },
        "outputId": "dfcbc515-f65d-4a19-8a00-cd73f8c274c7"
      },
      "source": [
        "a=\"hello\"\n",
        "print(len(a))"
      ],
      "execution_count": 1,
      "outputs": [
        {
          "output_type": "stream",
          "text": [
            "5\n"
          ],
          "name": "stdout"
        }
      ]
    },
    {
      "cell_type": "markdown",
      "metadata": {
        "id": "WkFgpJt2U5mC",
        "colab_type": "text"
      },
      "source": [
        "2.Write a Python program to count the number of characters (character frequency) in a string."
      ]
    },
    {
      "cell_type": "code",
      "metadata": {
        "id": "2dGJkwzUVCS-",
        "colab_type": "code",
        "colab": {
          "base_uri": "https://localhost:8080/",
          "height": 52
        },
        "outputId": "dbf50367-d20c-4fed-a00c-a970198b3d5d"
      },
      "source": [
        "a=str(input('enter the string'))\n",
        "count=0\n",
        "for i in a:\n",
        "  count=count+1\n",
        "print(\"total no.of characters in this string=\",count)"
      ],
      "execution_count": 2,
      "outputs": [
        {
          "output_type": "stream",
          "text": [
            "enter the stringcherry\n",
            "total no.of characters in this string= 6\n"
          ],
          "name": "stdout"
        }
      ]
    },
    {
      "cell_type": "markdown",
      "metadata": {
        "id": "kLrFsSAeVOc2",
        "colab_type": "text"
      },
      "source": [
        "3.Write a Python program to get a single string from two given strings, separated by a space and swap the first two characters of each string"
      ]
    },
    {
      "cell_type": "code",
      "metadata": {
        "id": "_e_S-1JeVUqc",
        "colab_type": "code",
        "colab": {
          "base_uri": "https://localhost:8080/",
          "height": 52
        },
        "outputId": "91148b9d-e891-4c23-fadc-7fdaf266c8f8"
      },
      "source": [
        "c = input()\n",
        "t = len(c)\n",
        "temp = \"\"\n",
        "for i in range(0,len(c)):\n",
        "    if t<3:\n",
        "        break\n",
        "    else:\n",
        "        if i in (0,1,t-2,t-1):\n",
        "            temp = temp+c[i]\n",
        "        else:\n",
        "            continue\n",
        "print(temp)"
      ],
      "execution_count": 3,
      "outputs": [
        {
          "output_type": "stream",
          "text": [
            "cherry\n",
            "chry\n"
          ],
          "name": "stdout"
        }
      ]
    },
    {
      "cell_type": "markdown",
      "metadata": {
        "id": "wVeDFzlOVk6o",
        "colab_type": "text"
      },
      "source": [
        "4.Write a Python script that takes input from the user and displays that input back in upper and lower cases"
      ]
    },
    {
      "cell_type": "code",
      "metadata": {
        "id": "oLV6n6nWVu_M",
        "colab_type": "code",
        "colab": {
          "base_uri": "https://localhost:8080/",
          "height": 35
        },
        "outputId": "5dc3863b-a039-482f-894f-e7eca37e3bcc"
      },
      "source": [
        "a=\"hello\"\n",
        "print(a.upper())"
      ],
      "execution_count": 4,
      "outputs": [
        {
          "output_type": "stream",
          "text": [
            "HELLO\n"
          ],
          "name": "stdout"
        }
      ]
    },
    {
      "cell_type": "markdown",
      "metadata": {
        "id": "QjzAh1qhX3Ar",
        "colab_type": "text"
      },
      "source": [
        "5.Write a Python program to remove a newline in Python."
      ]
    },
    {
      "cell_type": "code",
      "metadata": {
        "id": "ZB0MiCuZX7XA",
        "colab_type": "code",
        "colab": {
          "base_uri": "https://localhost:8080/",
          "height": 52
        },
        "outputId": "d8dd05d8-f9dd-4228-f2ab-103cd14479a4"
      },
      "source": [
        "str1=\"hello\"\n",
        "print(str1)\n",
        "print(str1.strip())"
      ],
      "execution_count": 5,
      "outputs": [
        {
          "output_type": "stream",
          "text": [
            "hello\n",
            "hello\n"
          ],
          "name": "stdout"
        }
      ]
    },
    {
      "cell_type": "markdown",
      "metadata": {
        "id": "ZfojYl56YI4A",
        "colab_type": "text"
      },
      "source": [
        "6.Write a Python program to count occurrences of a substring in a string."
      ]
    },
    {
      "cell_type": "code",
      "metadata": {
        "id": "-brQZPkSYMFP",
        "colab_type": "code",
        "colab": {
          "base_uri": "https://localhost:8080/",
          "height": 70
        },
        "outputId": "9d00907b-3ebe-4cf2-c496-68b29a4350a8"
      },
      "source": [
        "str1 = 'this is charan and i am from rajahmundry'\n",
        "print()\n",
        "print(str1.count(\"a\"))\n",
        "print()"
      ],
      "execution_count": 7,
      "outputs": [
        {
          "output_type": "stream",
          "text": [
            "\n",
            "6\n",
            "\n"
          ],
          "name": "stdout"
        }
      ]
    },
    {
      "cell_type": "markdown",
      "metadata": {
        "id": "LgibvChYYino",
        "colab_type": "text"
      },
      "source": [
        "7.Write a Python program to convert a string in a list."
      ]
    },
    {
      "cell_type": "code",
      "metadata": {
        "id": "2KbbbQM2Yolx",
        "colab_type": "code",
        "colab": {
          "base_uri": "https://localhost:8080/",
          "height": 35
        },
        "outputId": "7bb11609-9fde-478a-9559-27074c20627f"
      },
      "source": [
        "def Convert(string): \n",
        "    li = list(string.split(\"-\")) \n",
        "    return li    \n",
        "str1 = \"charan-cherry\"\n",
        "print(Convert(str1))"
      ],
      "execution_count": 9,
      "outputs": [
        {
          "output_type": "stream",
          "text": [
            "['charan', 'cherry']\n"
          ],
          "name": "stdout"
        }
      ]
    },
    {
      "cell_type": "markdown",
      "metadata": {
        "id": "qbJJr3u8Y6mQ",
        "colab_type": "text"
      },
      "source": [
        "8.Write a Python program to perform Deletion of a character "
      ]
    },
    {
      "cell_type": "code",
      "metadata": {
        "id": "BdeO1-bQZBie",
        "colab_type": "code",
        "colab": {
          "base_uri": "https://localhost:8080/",
          "height": 132
        },
        "outputId": "2fe789b2-bcd3-4c62-83e6-a3783d90a0a5"
      },
      "source": [
        "s = 'charan'\n",
        "print(s.del('a',''))"
      ],
      "execution_count": 10,
      "outputs": [
        {
          "output_type": "error",
          "ename": "SyntaxError",
          "evalue": "ignored",
          "traceback": [
            "\u001b[0;36m  File \u001b[0;32m\"<ipython-input-10-4c2ea0d8ec23>\"\u001b[0;36m, line \u001b[0;32m2\u001b[0m\n\u001b[0;31m    print(s.del('a',''))\u001b[0m\n\u001b[0m              ^\u001b[0m\n\u001b[0;31mSyntaxError\u001b[0m\u001b[0;31m:\u001b[0m invalid syntax\n"
          ]
        }
      ]
    },
    {
      "cell_type": "markdown",
      "metadata": {
        "id": "raRg1brbZM43",
        "colab_type": "text"
      },
      "source": [
        "9.Write a program to print every character of a string entered by user in a new line using loop. "
      ]
    },
    {
      "cell_type": "code",
      "metadata": {
        "id": "1j7Gjx-VZRDR",
        "colab_type": "code",
        "colab": {
          "base_uri": "https://localhost:8080/",
          "height": 310
        },
        "outputId": "3a1b48f7-aa8b-43dd-b416-2e84c6f69dd3"
      },
      "source": [
        "word = 'cherry'\n",
        "print(word[0])\n",
        "print(word[1])\n",
        "print(word[2])\n",
        "print(word[3])\n",
        "print(word[4])\n",
        "print(word[5])\n",
        "print(word[6])"
      ],
      "execution_count": 12,
      "outputs": [
        {
          "output_type": "stream",
          "text": [
            "c\n",
            "h\n",
            "e\n",
            "r\n",
            "r\n",
            "y\n"
          ],
          "name": "stdout"
        },
        {
          "output_type": "error",
          "ename": "IndexError",
          "evalue": "ignored",
          "traceback": [
            "\u001b[0;31m---------------------------------------------------------------------------\u001b[0m",
            "\u001b[0;31mIndexError\u001b[0m                                Traceback (most recent call last)",
            "\u001b[0;32m<ipython-input-12-0a724719e9b9>\u001b[0m in \u001b[0;36m<module>\u001b[0;34m()\u001b[0m\n\u001b[1;32m      6\u001b[0m \u001b[0mprint\u001b[0m\u001b[0;34m(\u001b[0m\u001b[0mword\u001b[0m\u001b[0;34m[\u001b[0m\u001b[0;36m4\u001b[0m\u001b[0;34m]\u001b[0m\u001b[0;34m)\u001b[0m\u001b[0;34m\u001b[0m\u001b[0;34m\u001b[0m\u001b[0m\n\u001b[1;32m      7\u001b[0m \u001b[0mprint\u001b[0m\u001b[0;34m(\u001b[0m\u001b[0mword\u001b[0m\u001b[0;34m[\u001b[0m\u001b[0;36m5\u001b[0m\u001b[0;34m]\u001b[0m\u001b[0;34m)\u001b[0m\u001b[0;34m\u001b[0m\u001b[0;34m\u001b[0m\u001b[0m\n\u001b[0;32m----> 8\u001b[0;31m \u001b[0mprint\u001b[0m\u001b[0;34m(\u001b[0m\u001b[0mword\u001b[0m\u001b[0;34m[\u001b[0m\u001b[0;36m6\u001b[0m\u001b[0;34m]\u001b[0m\u001b[0;34m)\u001b[0m\u001b[0;34m\u001b[0m\u001b[0;34m\u001b[0m\u001b[0m\n\u001b[0m",
            "\u001b[0;31mIndexError\u001b[0m: string index out of range"
          ]
        }
      ]
    }
  ]
}